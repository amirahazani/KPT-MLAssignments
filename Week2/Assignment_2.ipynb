{
  "nbformat": 4,
  "nbformat_minor": 0,
  "metadata": {
    "colab": {
      "name": "Assignment 2.ipynb",
      "provenance": [],
      "collapsed_sections": [
        "S9Nrxtc3VbEg"
      ]
    },
    "kernelspec": {
      "name": "python3",
      "display_name": "Python 3"
    },
    "language_info": {
      "name": "python"
    },
    "gpuClass": "standard",
    "widgets": {
      "application/vnd.jupyter.widget-state+json": {
        "62bfd0fb5e144030933d332859399ab2": {
          "model_module": "@jupyter-widgets/controls",
          "model_name": "HBoxModel",
          "model_module_version": "1.5.0",
          "state": {
            "_dom_classes": [],
            "_model_module": "@jupyter-widgets/controls",
            "_model_module_version": "1.5.0",
            "_model_name": "HBoxModel",
            "_view_count": null,
            "_view_module": "@jupyter-widgets/controls",
            "_view_module_version": "1.5.0",
            "_view_name": "HBoxView",
            "box_style": "",
            "children": [
              "IPY_MODEL_151e9dc1b7454a308a289c092d51670d",
              "IPY_MODEL_0cb8d4a436ec4e9b81a108566c701cc7",
              "IPY_MODEL_c0143c969b444239ade6394c54899ff7"
            ],
            "layout": "IPY_MODEL_d950e15a609d41078433a60a26c80c01"
          }
        },
        "151e9dc1b7454a308a289c092d51670d": {
          "model_module": "@jupyter-widgets/controls",
          "model_name": "HTMLModel",
          "model_module_version": "1.5.0",
          "state": {
            "_dom_classes": [],
            "_model_module": "@jupyter-widgets/controls",
            "_model_module_version": "1.5.0",
            "_model_name": "HTMLModel",
            "_view_count": null,
            "_view_module": "@jupyter-widgets/controls",
            "_view_module_version": "1.5.0",
            "_view_name": "HTMLView",
            "description": "",
            "description_tooltip": null,
            "layout": "IPY_MODEL_e29bcbac19d641b0bc215e0e738b6373",
            "placeholder": "​",
            "style": "IPY_MODEL_3a5f7b94f632420ea5950348b45be4c8",
            "value": "100%"
          }
        },
        "0cb8d4a436ec4e9b81a108566c701cc7": {
          "model_module": "@jupyter-widgets/controls",
          "model_name": "FloatProgressModel",
          "model_module_version": "1.5.0",
          "state": {
            "_dom_classes": [],
            "_model_module": "@jupyter-widgets/controls",
            "_model_module_version": "1.5.0",
            "_model_name": "FloatProgressModel",
            "_view_count": null,
            "_view_module": "@jupyter-widgets/controls",
            "_view_module_version": "1.5.0",
            "_view_name": "ProgressView",
            "bar_style": "success",
            "description": "",
            "description_tooltip": null,
            "layout": "IPY_MODEL_cec82aa137f24210a85e122595b551e8",
            "max": 46830571,
            "min": 0,
            "orientation": "horizontal",
            "style": "IPY_MODEL_2810787de5c24410b63011e2bbf44ed4",
            "value": 46830571
          }
        },
        "c0143c969b444239ade6394c54899ff7": {
          "model_module": "@jupyter-widgets/controls",
          "model_name": "HTMLModel",
          "model_module_version": "1.5.0",
          "state": {
            "_dom_classes": [],
            "_model_module": "@jupyter-widgets/controls",
            "_model_module_version": "1.5.0",
            "_model_name": "HTMLModel",
            "_view_count": null,
            "_view_module": "@jupyter-widgets/controls",
            "_view_module_version": "1.5.0",
            "_view_name": "HTMLView",
            "description": "",
            "description_tooltip": null,
            "layout": "IPY_MODEL_16f2a9b4b95e442b81eecf154e276df6",
            "placeholder": "​",
            "style": "IPY_MODEL_92bda2be834e44a7ab68b9bcdbc5c4dc",
            "value": " 44.7M/44.7M [00:00&lt;00:00, 106MB/s]"
          }
        },
        "d950e15a609d41078433a60a26c80c01": {
          "model_module": "@jupyter-widgets/base",
          "model_name": "LayoutModel",
          "model_module_version": "1.2.0",
          "state": {
            "_model_module": "@jupyter-widgets/base",
            "_model_module_version": "1.2.0",
            "_model_name": "LayoutModel",
            "_view_count": null,
            "_view_module": "@jupyter-widgets/base",
            "_view_module_version": "1.2.0",
            "_view_name": "LayoutView",
            "align_content": null,
            "align_items": null,
            "align_self": null,
            "border": null,
            "bottom": null,
            "display": null,
            "flex": null,
            "flex_flow": null,
            "grid_area": null,
            "grid_auto_columns": null,
            "grid_auto_flow": null,
            "grid_auto_rows": null,
            "grid_column": null,
            "grid_gap": null,
            "grid_row": null,
            "grid_template_areas": null,
            "grid_template_columns": null,
            "grid_template_rows": null,
            "height": null,
            "justify_content": null,
            "justify_items": null,
            "left": null,
            "margin": null,
            "max_height": null,
            "max_width": null,
            "min_height": null,
            "min_width": null,
            "object_fit": null,
            "object_position": null,
            "order": null,
            "overflow": null,
            "overflow_x": null,
            "overflow_y": null,
            "padding": null,
            "right": null,
            "top": null,
            "visibility": null,
            "width": null
          }
        },
        "e29bcbac19d641b0bc215e0e738b6373": {
          "model_module": "@jupyter-widgets/base",
          "model_name": "LayoutModel",
          "model_module_version": "1.2.0",
          "state": {
            "_model_module": "@jupyter-widgets/base",
            "_model_module_version": "1.2.0",
            "_model_name": "LayoutModel",
            "_view_count": null,
            "_view_module": "@jupyter-widgets/base",
            "_view_module_version": "1.2.0",
            "_view_name": "LayoutView",
            "align_content": null,
            "align_items": null,
            "align_self": null,
            "border": null,
            "bottom": null,
            "display": null,
            "flex": null,
            "flex_flow": null,
            "grid_area": null,
            "grid_auto_columns": null,
            "grid_auto_flow": null,
            "grid_auto_rows": null,
            "grid_column": null,
            "grid_gap": null,
            "grid_row": null,
            "grid_template_areas": null,
            "grid_template_columns": null,
            "grid_template_rows": null,
            "height": null,
            "justify_content": null,
            "justify_items": null,
            "left": null,
            "margin": null,
            "max_height": null,
            "max_width": null,
            "min_height": null,
            "min_width": null,
            "object_fit": null,
            "object_position": null,
            "order": null,
            "overflow": null,
            "overflow_x": null,
            "overflow_y": null,
            "padding": null,
            "right": null,
            "top": null,
            "visibility": null,
            "width": null
          }
        },
        "3a5f7b94f632420ea5950348b45be4c8": {
          "model_module": "@jupyter-widgets/controls",
          "model_name": "DescriptionStyleModel",
          "model_module_version": "1.5.0",
          "state": {
            "_model_module": "@jupyter-widgets/controls",
            "_model_module_version": "1.5.0",
            "_model_name": "DescriptionStyleModel",
            "_view_count": null,
            "_view_module": "@jupyter-widgets/base",
            "_view_module_version": "1.2.0",
            "_view_name": "StyleView",
            "description_width": ""
          }
        },
        "cec82aa137f24210a85e122595b551e8": {
          "model_module": "@jupyter-widgets/base",
          "model_name": "LayoutModel",
          "model_module_version": "1.2.0",
          "state": {
            "_model_module": "@jupyter-widgets/base",
            "_model_module_version": "1.2.0",
            "_model_name": "LayoutModel",
            "_view_count": null,
            "_view_module": "@jupyter-widgets/base",
            "_view_module_version": "1.2.0",
            "_view_name": "LayoutView",
            "align_content": null,
            "align_items": null,
            "align_self": null,
            "border": null,
            "bottom": null,
            "display": null,
            "flex": null,
            "flex_flow": null,
            "grid_area": null,
            "grid_auto_columns": null,
            "grid_auto_flow": null,
            "grid_auto_rows": null,
            "grid_column": null,
            "grid_gap": null,
            "grid_row": null,
            "grid_template_areas": null,
            "grid_template_columns": null,
            "grid_template_rows": null,
            "height": null,
            "justify_content": null,
            "justify_items": null,
            "left": null,
            "margin": null,
            "max_height": null,
            "max_width": null,
            "min_height": null,
            "min_width": null,
            "object_fit": null,
            "object_position": null,
            "order": null,
            "overflow": null,
            "overflow_x": null,
            "overflow_y": null,
            "padding": null,
            "right": null,
            "top": null,
            "visibility": null,
            "width": null
          }
        },
        "2810787de5c24410b63011e2bbf44ed4": {
          "model_module": "@jupyter-widgets/controls",
          "model_name": "ProgressStyleModel",
          "model_module_version": "1.5.0",
          "state": {
            "_model_module": "@jupyter-widgets/controls",
            "_model_module_version": "1.5.0",
            "_model_name": "ProgressStyleModel",
            "_view_count": null,
            "_view_module": "@jupyter-widgets/base",
            "_view_module_version": "1.2.0",
            "_view_name": "StyleView",
            "bar_color": null,
            "description_width": ""
          }
        },
        "16f2a9b4b95e442b81eecf154e276df6": {
          "model_module": "@jupyter-widgets/base",
          "model_name": "LayoutModel",
          "model_module_version": "1.2.0",
          "state": {
            "_model_module": "@jupyter-widgets/base",
            "_model_module_version": "1.2.0",
            "_model_name": "LayoutModel",
            "_view_count": null,
            "_view_module": "@jupyter-widgets/base",
            "_view_module_version": "1.2.0",
            "_view_name": "LayoutView",
            "align_content": null,
            "align_items": null,
            "align_self": null,
            "border": null,
            "bottom": null,
            "display": null,
            "flex": null,
            "flex_flow": null,
            "grid_area": null,
            "grid_auto_columns": null,
            "grid_auto_flow": null,
            "grid_auto_rows": null,
            "grid_column": null,
            "grid_gap": null,
            "grid_row": null,
            "grid_template_areas": null,
            "grid_template_columns": null,
            "grid_template_rows": null,
            "height": null,
            "justify_content": null,
            "justify_items": null,
            "left": null,
            "margin": null,
            "max_height": null,
            "max_width": null,
            "min_height": null,
            "min_width": null,
            "object_fit": null,
            "object_position": null,
            "order": null,
            "overflow": null,
            "overflow_x": null,
            "overflow_y": null,
            "padding": null,
            "right": null,
            "top": null,
            "visibility": null,
            "width": null
          }
        },
        "92bda2be834e44a7ab68b9bcdbc5c4dc": {
          "model_module": "@jupyter-widgets/controls",
          "model_name": "DescriptionStyleModel",
          "model_module_version": "1.5.0",
          "state": {
            "_model_module": "@jupyter-widgets/controls",
            "_model_module_version": "1.5.0",
            "_model_name": "DescriptionStyleModel",
            "_view_count": null,
            "_view_module": "@jupyter-widgets/base",
            "_view_module_version": "1.2.0",
            "_view_name": "StyleView",
            "description_width": ""
          }
        }
      }
    },
    "accelerator": "GPU"
  },
  "cells": [
    {
      "cell_type": "markdown",
      "source": [
        "#1) The training of a **model on the dataset as is\n",
        "\n"
      ],
      "metadata": {
        "id": "AtTJCUKTVGxL"
      }
    },
    {
      "cell_type": "code",
      "execution_count": 1,
      "metadata": {
        "colab": {
          "base_uri": "https://localhost:8080/"
        },
        "id": "PHk5dG38C4oY",
        "outputId": "38639375-f15c-4748-87e2-487a73e02414"
      },
      "outputs": [
        {
          "output_type": "stream",
          "name": "stdout",
          "text": [
            "Mounted at /content/gdrive\n"
          ]
        }
      ],
      "source": [
        "#mount the google drive\n",
        "from google.colab import drive\n",
        "drive.mount('/content/gdrive')"
      ]
    },
    {
      "cell_type": "code",
      "source": [
        "import torch, torchvision\n",
        "import torch.nn as nn\n",
        "import torch.nn.functional as F\n",
        "import torch.optim as optim\n",
        "import time\n",
        "import numpy as np\n",
        "import matplotlib.pyplot as plt\n",
        "import os\n",
        "import cv2\n",
        "import glob\n",
        "import numpy\n",
        "import random\n",
        "\n",
        "from PIL import Image\n",
        "from torch.utils.data import Dataset\n",
        "from torch.utils.data import DataLoader\n",
        "from torchvision import datasets, models, transforms\n",
        "from torchsummary import summary"
      ],
      "metadata": {
        "id": "2UTBwHoNVA4h"
      },
      "execution_count": 2,
      "outputs": []
    },
    {
      "cell_type": "code",
      "execution_count": 3,
      "metadata": {
        "id": "Veui89ripGPp"
      },
      "outputs": [],
      "source": [
        "# Applying Transforms to the Data\n",
        "import torchvision\n",
        "import torchvision.transforms as transforms\n",
        "\n",
        "image_transforms = {\n",
        "    'train': transforms.Compose([\n",
        "       # transforms.RandomResizedCrop(size=256, scale=(0.8, 1.0)),\n",
        "        transforms.Resize(size=(32,32)),\n",
        "        #transforms.RandomRotation(degrees=15),\n",
        "        #transforms.RandomHorizontalFlip(),\n",
        "        #transforms.CenterCrop(size=224), #centre crop has to be smaller than og size\n",
        "        transforms.ToTensor(),\n",
        "        #transforms.Normalize([0.5, 0.5, 0.5], #this for CIFOS but for the fruit data use diff values\n",
        "         #                    [0.5, 0.5, 0.5])\n",
        "        transforms.Normalize([0.485, 0.456, 0.406],\n",
        "                             [0.229, 0.224, 0.225])\n",
        "    ]),\n",
        "    'test': transforms.Compose([\n",
        "        transforms.Resize(size=(32,32)),\n",
        "      #  transforms.CenterCrop(size=224),\n",
        "        transforms.ToTensor(),\n",
        "        transforms.Normalize([0.485, 0.456, 0.406],\n",
        "                             [0.229, 0.224, 0.225])\n",
        "    ])\n",
        "}\n"
      ]
    },
    {
      "cell_type": "code",
      "execution_count": 4,
      "metadata": {
        "colab": {
          "base_uri": "https://localhost:8080/"
        },
        "id": "sGWbs8c-pGPr",
        "outputId": "1b645c41-8042-41c7-b954-1f7c184ac261"
      },
      "outputs": [
        {
          "output_type": "stream",
          "name": "stdout",
          "text": [
            "4\n"
          ]
        }
      ],
      "source": [
        "# Load the Data\n",
        "\n",
        "# Set train and valid directory paths\n",
        "\n",
        "dataset = '/content/gdrive/MyDrive/fruit_dataset/'\n",
        "\n",
        "train_directory = os.path.join(dataset, 'train')\n",
        "test_directory = os.path.join(dataset, 'validation')\n",
        "\n",
        "# Batch size\n",
        "batchSize = 8\n",
        "\n",
        "# Number of classes\n",
        "num_classes = len(os.listdir(train_directory))\n",
        "print(num_classes)\n",
        "\n",
        "# Load Data from folders\n",
        "data = {\n",
        "    'train': datasets.ImageFolder(root=train_directory, transform=image_transforms['train']),\n",
        "\n",
        "    'test': datasets.ImageFolder(root=test_directory, transform=image_transforms['test'])\n",
        "}\n",
        "\n",
        "# Get a mapping of the indices to the class names, in order to see the output classes of the test images.\n",
        "# idx_to_class = {v: k for k, v in data['train'].class_to_idx.items()}\n",
        "# print(idx_to_class)"
      ]
    },
    {
      "cell_type": "code",
      "execution_count": 5,
      "metadata": {
        "id": "JuZoH8SVpGPu"
      },
      "outputs": [],
      "source": [
        "# Size of Data, to be used for calculating Average Loss and Accuracy\n",
        "train_data_size = len(data['train'])\n",
        "# valid_data_size = len(data['valid'])\n",
        "test_data_size = len(data['test'])\n",
        "\n",
        "# Create iterators for the Data loaded using DataLoader module\n",
        "train_data_loader = DataLoader(data['train'], batch_size=batchSize, shuffle=True)\n",
        "# valid_data_loader = DataLoader(data['valid'], batch_size=batchSize, shuffle=True)\n",
        "test_data_loader = DataLoader(data['test'], batch_size=batchSize, shuffle=True)"
      ]
    },
    {
      "cell_type": "code",
      "execution_count": 6,
      "metadata": {
        "id": "lllGMRytpGPv",
        "colab": {
          "base_uri": "https://localhost:8080/"
        },
        "outputId": "9c3b20f3-1c21-4f13-c952-bb88fc006b88"
      },
      "outputs": [
        {
          "output_type": "execute_result",
          "data": {
            "text/plain": [
              "(521, 323)"
            ]
          },
          "metadata": {},
          "execution_count": 6
        }
      ],
      "source": [
        "train_data_size, test_data_size"
      ]
    },
    {
      "cell_type": "code",
      "execution_count": 7,
      "metadata": {
        "id": "7pHq9YTbpGPw"
      },
      "outputs": [],
      "source": [
        "input_size = (3,32,32)"
      ]
    },
    {
      "cell_type": "code",
      "execution_count": 8,
      "metadata": {
        "id": "jTuCiNMepGPx",
        "colab": {
          "base_uri": "https://localhost:8080/"
        },
        "outputId": "cab42541-d670-4bfb-f80b-dd85a2b10ff5"
      },
      "outputs": [
        {
          "output_type": "stream",
          "name": "stdout",
          "text": [
            "521\n",
            "323\n"
          ]
        }
      ],
      "source": [
        "#######################################################\n",
        "#                  Create Dataloader                     #\n",
        "#######################################################\n",
        "\n",
        "# Turn train and test custom Dataset's into DataLoader's\n",
        "from torch.utils.data import DataLoader\n",
        "trainloader = DataLoader(dataset=data['train'], # use custom created train Dataset\n",
        "                                     batch_size=8, # how many samples per batch?\n",
        "                                     num_workers=0, # how many subprocesses to use for data loading? (higher = more)\n",
        "                                     shuffle=True) # shuffle the data?\n",
        "\n",
        "testloader = DataLoader(dataset=data['test'], # use custom created test Dataset\n",
        "                                    batch_size=8, \n",
        "                                    num_workers=0, \n",
        "                                    shuffle=False,) # don't usually need to shuffle testing data\n",
        "\n",
        "train_data_size = len(trainloader.dataset)\n",
        "test_data_size = len(testloader.dataset)\n",
        "\n",
        "print(train_data_size)\n",
        "print(test_data_size)"
      ]
    },
    {
      "cell_type": "code",
      "execution_count": 9,
      "metadata": {
        "id": "z7TYXzQ4pGPy"
      },
      "outputs": [],
      "source": [
        "#1. DEFINE THE CNN \n",
        "class CNN(nn.Module):\n",
        "    def __init__(self):\n",
        "        super(CNN, self).__init__()\n",
        "        self.conv1 = nn.Conv2d(3, 6, 5) \n",
        "        self.pool = nn.MaxPool2d(2, 2) \n",
        "        #self.batchnorm1 = nn.BatchNorm2d(6)\n",
        "        self.conv2 = nn.Conv2d(6, 16, 5)\n",
        "        #self.batchnorm2 = nn.BatchNorm2d(16)\n",
        "        self.fc1 = nn.Linear(16 * 5 * 5, 120) \n",
        "        #op is 23 --> \n",
        "        self.fc2 = nn.Linear(120, 84)\n",
        "        self.fc3 = nn.Linear(84, 4)\n",
        "        self.relu = nn.ReLU()\n",
        "\n",
        "    def forward(self, x):\n",
        "        x = self.pool(self.relu(self.conv1(x))) #max pool1\n",
        "        #x = self.batchnorm1(x)\n",
        "        x = self.pool(self.relu(self.conv2(x))) \n",
        "        #x = self.batchnorm2(x)\n",
        "        x = x.view(-1, 16 * 5 * 5)\n",
        "        x = self.relu(self.fc1(x))\n",
        "        x = self.relu(self.fc2(x))\n",
        "        x = self.fc3(x)\n",
        "        return x\n"
      ]
    },
    {
      "cell_type": "code",
      "source": [
        "model = CNN()\n",
        "# 2. LOSS AND OPTIMIZER\n",
        "criterion = nn.CrossEntropyLoss()\n",
        "optimizer = optim.SGD(model.parameters(), lr=0.001, momentum=0.9)\n",
        "# 3. move the model to GPU\n",
        "device = torch.device('cuda:0' if torch.cuda.is_available() else 'cpu')\n",
        "model.to(device)"
      ],
      "metadata": {
        "id": "p9C7hYcdyM8b",
        "colab": {
          "base_uri": "https://localhost:8080/"
        },
        "outputId": "8d673448-6f14-48d8-9f15-34bd38b0828f"
      },
      "execution_count": 10,
      "outputs": [
        {
          "output_type": "execute_result",
          "data": {
            "text/plain": [
              "CNN(\n",
              "  (conv1): Conv2d(3, 6, kernel_size=(5, 5), stride=(1, 1))\n",
              "  (pool): MaxPool2d(kernel_size=2, stride=2, padding=0, dilation=1, ceil_mode=False)\n",
              "  (conv2): Conv2d(6, 16, kernel_size=(5, 5), stride=(1, 1))\n",
              "  (fc1): Linear(in_features=400, out_features=120, bias=True)\n",
              "  (fc2): Linear(in_features=120, out_features=84, bias=True)\n",
              "  (fc3): Linear(in_features=84, out_features=4, bias=True)\n",
              "  (relu): ReLU()\n",
              ")"
            ]
          },
          "metadata": {},
          "execution_count": 10
        }
      ]
    },
    {
      "cell_type": "code",
      "execution_count": 11,
      "metadata": {
        "id": "bEVE8du9pGPz"
      },
      "outputs": [],
      "source": [
        "import time # to calculate training time\n",
        "\n",
        "def train_and_validate(model, loss_criterion, optimizer, epochs=25):\n",
        "    '''\n",
        "    Function to train and validate\n",
        "    Parameters\n",
        "        :param model: Model to train and validate\n",
        "        :param loss_criterion: Loss Criterion to minimize\n",
        "        :param optimizer: Optimizer for computing gradients\n",
        "        :param epochs: Number of epochs (default=25)\n",
        "  \n",
        "    Returns\n",
        "        model: Trained Model with best validation accuracy\n",
        "        history: (dict object): Having training loss, accuracy and validation loss, accuracy\n",
        "    '''\n",
        "    \n",
        "    start = time.time()\n",
        "    history = []\n",
        "    best_acc = 0.0\n",
        "\n",
        "    for epoch in range(epochs):\n",
        "        epoch_start = time.time()\n",
        "        print(\"Epoch: {}/{}\".format(epoch+1, epochs))\n",
        "        \n",
        "        # Set to training mode\n",
        "        model.train()\n",
        "        \n",
        "        # Loss and Accuracy within the epoch\n",
        "        train_loss = 0.0\n",
        "        train_acc = 0.0\n",
        "        \n",
        "        valid_loss = 0.0\n",
        "        valid_acc = 0.0\n",
        "        \n",
        "        for i, (inputs, labels) in enumerate(trainloader):\n",
        "\n",
        "            inputs = inputs.to(device)\n",
        "            labels = labels.to(device)\n",
        "            \n",
        "            # Clean existing gradients\n",
        "            optimizer.zero_grad()\n",
        "            \n",
        "            # Forward pass - compute outputs on input data using the model\n",
        "            outputs = model(inputs)\n",
        "            \n",
        "            # Compute loss\n",
        "            loss = loss_criterion(outputs, labels)\n",
        "            \n",
        "            # Backpropagate the gradients\n",
        "            loss.backward()\n",
        "            \n",
        "            # Update the parameters\n",
        "            optimizer.step()\n",
        "            \n",
        "            # Compute the total loss for the batch and add it to train_loss\n",
        "            train_loss += loss.item() * inputs.size(0)\n",
        "            \n",
        "            # Compute the accuracy\n",
        "            ret, predictions = torch.max(outputs.data, 1)\n",
        "            correct_counts = predictions.eq(labels.data.view_as(predictions))\n",
        "            \n",
        "            # Convert correct_counts to float and then compute the mean\n",
        "            acc = torch.mean(correct_counts.type(torch.FloatTensor))\n",
        "            \n",
        "            # Compute total accuracy in the whole batch and add to train_acc\n",
        "            train_acc += acc.item() * inputs.size(0)\n",
        "            \n",
        "            #print(\"Batch number: {:03d}, Training: Loss: {:.4f}, Accuracy: {:.4f}\".format(i, loss.item(), acc.item()))\n",
        "\n",
        "            \n",
        "        # Validation - No gradient tracking needed\n",
        "        with torch.no_grad():\n",
        "\n",
        "            # Set to evaluation mode\n",
        "            model.eval()\n",
        "\n",
        "            # Validation loop\n",
        "            for j, (inputs, labels) in enumerate(testloader):\n",
        "                inputs = inputs.to(device)\n",
        "                labels = labels.to(device)\n",
        "\n",
        "                # Forward pass - compute outputs on input data using the model\n",
        "                outputs = model(inputs)\n",
        "\n",
        "                # Compute loss\n",
        "                loss = loss_criterion(outputs, labels)\n",
        "\n",
        "                # Compute the total loss for the batch and add it to valid_loss\n",
        "                valid_loss += loss.item() * inputs.size(0)\n",
        "\n",
        "                # Calculate validation accuracy\n",
        "                ret, predictions = torch.max(outputs.data, 1)\n",
        "                correct_counts = predictions.eq(labels.data.view_as(predictions))\n",
        "\n",
        "                # Convert correct_counts to float and then compute the mean\n",
        "                acc = torch.mean(correct_counts.type(torch.FloatTensor))\n",
        "\n",
        "                # Compute total accuracy in the whole batch and add to valid_acc\n",
        "                valid_acc += acc.item() * inputs.size(0)\n",
        "\n",
        "                #print(\"Validation Batch number: {:03d}, Validation: Loss: {:.4f}, Accuracy: {:.4f}\".format(j, loss.item(), acc.item()))\n",
        "            \n",
        "        # Find average training loss and training accuracy\n",
        "        avg_train_loss = train_loss/train_data_size \n",
        "        avg_train_acc = train_acc/train_data_size\n",
        "\n",
        "        # Find average training loss and training accuracy\n",
        "        avg_test_loss = valid_loss/test_data_size \n",
        "        avg_test_acc = valid_acc/test_data_size\n",
        "\n",
        "        history.append([avg_train_loss, avg_test_loss, avg_train_acc, avg_test_acc])\n",
        "                \n",
        "        epoch_end = time.time()\n",
        "    \n",
        "        print(\"Epoch : {:03d}, Training: Loss: {:.4f}, Accuracy: {:.4f}%, \\n\\t\\tValidation : Loss : {:.4f}, Accuracy: {:.4f}%, Time: {:.4f}s\".format(epoch, avg_train_loss, avg_train_acc*100, avg_test_loss, avg_test_acc*100, epoch_end-epoch_start))\n",
        "        \n",
        "        # Save if the model has best accuracy till now\n",
        "        torch.save(model, 'cifar10_model_'+str(epoch)+'.pt')\n",
        "            \n",
        "    return model, history"
      ]
    },
    {
      "cell_type": "code",
      "execution_count": 12,
      "metadata": {
        "id": "k9tt7xW0pGP0",
        "colab": {
          "base_uri": "https://localhost:8080/"
        },
        "outputId": "a666bf40-02ad-436a-9a6e-90c856064b2f"
      },
      "outputs": [
        {
          "output_type": "stream",
          "name": "stdout",
          "text": [
            "Epoch: 1/30\n",
            "Epoch : 000, Training: Loss: 1.3300, Accuracy: 39.5393%, \n",
            "\t\tValidation : Loss : 1.4029, Accuracy: 15.4799%, Time: 402.4527s\n",
            "Epoch: 2/30\n",
            "Epoch : 001, Training: Loss: 1.1484, Accuracy: 42.0345%, \n",
            "\t\tValidation : Loss : 1.7733, Accuracy: 15.4799%, Time: 2.2868s\n",
            "Epoch: 3/30\n",
            "Epoch : 002, Training: Loss: 1.0289, Accuracy: 41.6507%, \n",
            "\t\tValidation : Loss : 1.8189, Accuracy: 15.4799%, Time: 2.1805s\n",
            "Epoch: 4/30\n",
            "Epoch : 003, Training: Loss: 1.0176, Accuracy: 41.8426%, \n",
            "\t\tValidation : Loss : 1.7342, Accuracy: 17.6471%, Time: 2.2121s\n",
            "Epoch: 5/30\n",
            "Epoch : 004, Training: Loss: 0.9842, Accuracy: 47.0250%, \n",
            "\t\tValidation : Loss : 1.7153, Accuracy: 18.2663%, Time: 2.2217s\n",
            "Epoch: 6/30\n",
            "Epoch : 005, Training: Loss: 0.9520, Accuracy: 51.4395%, \n",
            "\t\tValidation : Loss : 1.6287, Accuracy: 19.8142%, Time: 2.2192s\n",
            "Epoch: 7/30\n",
            "Epoch : 006, Training: Loss: 0.9072, Accuracy: 56.2380%, \n",
            "\t\tValidation : Loss : 1.5277, Accuracy: 43.0341%, Time: 2.2775s\n",
            "Epoch: 8/30\n",
            "Epoch : 007, Training: Loss: 0.8728, Accuracy: 63.5317%, \n",
            "\t\tValidation : Loss : 1.5363, Accuracy: 44.8916%, Time: 2.2094s\n",
            "Epoch: 9/30\n",
            "Epoch : 008, Training: Loss: 0.8003, Accuracy: 69.8656%, \n",
            "\t\tValidation : Loss : 1.3617, Accuracy: 56.6563%, Time: 2.2656s\n",
            "Epoch: 10/30\n",
            "Epoch : 009, Training: Loss: 0.7486, Accuracy: 72.1689%, \n",
            "\t\tValidation : Loss : 1.2988, Accuracy: 65.0155%, Time: 2.2602s\n",
            "Epoch: 11/30\n",
            "Epoch : 010, Training: Loss: 0.7289, Accuracy: 71.5931%, \n",
            "\t\tValidation : Loss : 1.3012, Accuracy: 65.0155%, Time: 2.1959s\n",
            "Epoch: 12/30\n",
            "Epoch : 011, Training: Loss: 0.7462, Accuracy: 68.7140%, \n",
            "\t\tValidation : Loss : 1.1413, Accuracy: 63.4675%, Time: 2.2580s\n",
            "Epoch: 13/30\n",
            "Epoch : 012, Training: Loss: 0.7171, Accuracy: 71.9770%, \n",
            "\t\tValidation : Loss : 1.2287, Accuracy: 64.0867%, Time: 2.3009s\n",
            "Epoch: 14/30\n",
            "Epoch : 013, Training: Loss: 0.6468, Accuracy: 73.5125%, \n",
            "\t\tValidation : Loss : 1.2599, Accuracy: 61.9195%, Time: 2.2963s\n",
            "Epoch: 15/30\n",
            "Epoch : 014, Training: Loss: 0.6405, Accuracy: 75.8157%, \n",
            "\t\tValidation : Loss : 1.1087, Accuracy: 67.1827%, Time: 2.3005s\n",
            "Epoch: 16/30\n",
            "Epoch : 015, Training: Loss: 0.6352, Accuracy: 76.3916%, \n",
            "\t\tValidation : Loss : 1.1255, Accuracy: 66.5635%, Time: 2.3236s\n",
            "Epoch: 17/30\n",
            "Epoch : 016, Training: Loss: 0.6337, Accuracy: 75.8157%, \n",
            "\t\tValidation : Loss : 1.0645, Accuracy: 61.9195%, Time: 2.2869s\n",
            "Epoch: 18/30\n",
            "Epoch : 017, Training: Loss: 0.6279, Accuracy: 76.0077%, \n",
            "\t\tValidation : Loss : 1.0019, Accuracy: 67.1827%, Time: 2.3722s\n",
            "Epoch: 19/30\n",
            "Epoch : 018, Training: Loss: 0.6125, Accuracy: 76.5835%, \n",
            "\t\tValidation : Loss : 1.0040, Accuracy: 67.4923%, Time: 2.8872s\n",
            "Epoch: 20/30\n",
            "Epoch : 019, Training: Loss: 0.5944, Accuracy: 78.3109%, \n",
            "\t\tValidation : Loss : 1.0894, Accuracy: 62.5387%, Time: 2.3735s\n",
            "Epoch: 21/30\n",
            "Epoch : 020, Training: Loss: 0.6119, Accuracy: 75.8157%, \n",
            "\t\tValidation : Loss : 1.0609, Accuracy: 67.4923%, Time: 2.2351s\n",
            "Epoch: 22/30\n",
            "Epoch : 021, Training: Loss: 0.5832, Accuracy: 78.3109%, \n",
            "\t\tValidation : Loss : 1.0660, Accuracy: 67.4923%, Time: 2.2233s\n",
            "Epoch: 23/30\n",
            "Epoch : 022, Training: Loss: 0.5442, Accuracy: 81.3820%, \n",
            "\t\tValidation : Loss : 1.3481, Accuracy: 62.5387%, Time: 2.2435s\n",
            "Epoch: 24/30\n",
            "Epoch : 023, Training: Loss: 0.5573, Accuracy: 80.2303%, \n",
            "\t\tValidation : Loss : 0.9895, Accuracy: 68.7307%, Time: 2.2043s\n",
            "Epoch: 25/30\n",
            "Epoch : 024, Training: Loss: 0.5426, Accuracy: 80.2303%, \n",
            "\t\tValidation : Loss : 1.0014, Accuracy: 67.1827%, Time: 2.2155s\n",
            "Epoch: 26/30\n",
            "Epoch : 025, Training: Loss: 0.5688, Accuracy: 77.5432%, \n",
            "\t\tValidation : Loss : 1.0105, Accuracy: 65.6347%, Time: 2.2160s\n",
            "Epoch: 27/30\n",
            "Epoch : 026, Training: Loss: 0.5268, Accuracy: 80.2303%, \n",
            "\t\tValidation : Loss : 1.0789, Accuracy: 64.3963%, Time: 2.2150s\n",
            "Epoch: 28/30\n",
            "Epoch : 027, Training: Loss: 0.5232, Accuracy: 80.0384%, \n",
            "\t\tValidation : Loss : 0.9615, Accuracy: 65.6347%, Time: 2.2364s\n",
            "Epoch: 29/30\n",
            "Epoch : 028, Training: Loss: 0.5307, Accuracy: 79.0787%, \n",
            "\t\tValidation : Loss : 0.9911, Accuracy: 69.6594%, Time: 2.2445s\n",
            "Epoch: 30/30\n",
            "Epoch : 029, Training: Loss: 0.5008, Accuracy: 81.7658%, \n",
            "\t\tValidation : Loss : 1.1106, Accuracy: 66.5635%, Time: 2.2298s\n"
          ]
        }
      ],
      "source": [
        "# 4. Train the model for 10 epoch\n",
        " \n",
        "num_epochs = 30\n",
        "trained_model, history = train_and_validate(model, criterion, optimizer, num_epochs)"
      ]
    },
    {
      "cell_type": "markdown",
      "source": [
        "#2) The training of the model on the dataset after modification to improve the performance of the model.\n",
        "\n",
        ">using pretrained model (Resnet)"
      ],
      "metadata": {
        "id": "dYu5v7ayVYI_"
      }
    },
    {
      "cell_type": "code",
      "source": [
        "#mount the google drive\n",
        "from google.colab import drive\n",
        "drive.mount('/content/gdrive')"
      ],
      "metadata": {
        "colab": {
          "base_uri": "https://localhost:8080/"
        },
        "id": "Wt7hpUqnkQoM",
        "outputId": "5cd0c391-8500-439e-943e-52c59aa88f08"
      },
      "execution_count": null,
      "outputs": [
        {
          "output_type": "stream",
          "name": "stdout",
          "text": [
            "Mounted at /content/gdrive\n"
          ]
        }
      ]
    },
    {
      "cell_type": "code",
      "execution_count": null,
      "metadata": {
        "id": "AHfDTbDJ2eNb"
      },
      "outputs": [],
      "source": [
        "import torch, torchvision\n",
        "import torch.nn as nn\n",
        "import torch.nn.functional as F\n",
        "import torch.optim as optim\n",
        "import time\n",
        "import numpy as np\n",
        "import matplotlib.pyplot as plt\n",
        "import os\n",
        "import cv2\n",
        "import glob\n",
        "import numpy\n",
        "import random\n",
        "\n",
        "from PIL import Image\n",
        "from torch.utils.data import Dataset\n",
        "from torch.utils.data import DataLoader\n",
        "from torchvision import datasets, models, transforms\n",
        "from torchsummary import summary"
      ]
    },
    {
      "cell_type": "code",
      "execution_count": null,
      "metadata": {
        "id": "RJntGWtr2gHO"
      },
      "outputs": [],
      "source": [
        "# Applying Transforms to the Data\n",
        "import torchvision\n",
        "import torchvision.transforms as transforms\n",
        "\n",
        "image_transforms = {\n",
        "    'train': transforms.Compose([\n",
        "       # transforms.RandomResizedCrop(size=256, scale=(0.8, 1.0)),\n",
        "        transforms.Resize(size=(32,32)),\n",
        "        #transforms.RandomRotation(degrees=15),\n",
        "        #transforms.RandomHorizontalFlip(),\n",
        "        #transforms.CenterCrop(size=224), #centre crop has to be smaller than og size\n",
        "        transforms.ToTensor(),\n",
        "        #transforms.Normalize([0.5, 0.5, 0.5], #this for CIFOS but for the fruit data use diff values\n",
        "         #                    [0.5, 0.5, 0.5])\n",
        "        transforms.Normalize([0.485, 0.456, 0.406],\n",
        "                             [0.229, 0.224, 0.225])\n",
        "    ]),\n",
        "    'test': transforms.Compose([\n",
        "        transforms.Resize(size=(32,32)),\n",
        "      #  transforms.CenterCrop(size=224),\n",
        "        transforms.ToTensor(),\n",
        "        transforms.Normalize([0.485, 0.456, 0.406],\n",
        "                             [0.229, 0.224, 0.225])\n",
        "    ])\n",
        "}\n"
      ]
    },
    {
      "cell_type": "code",
      "execution_count": null,
      "metadata": {
        "colab": {
          "base_uri": "https://localhost:8080/"
        },
        "outputId": "dbf7841e-d09c-40c7-cf94-86cbdede7179",
        "id": "9pTNisZQ2iQ0"
      },
      "outputs": [
        {
          "output_type": "stream",
          "name": "stdout",
          "text": [
            "4\n"
          ]
        }
      ],
      "source": [
        "# Load the Data\n",
        "\n",
        "# Set train and valid directory paths\n",
        "\n",
        "dataset = '/content/gdrive/MyDrive/fruit_dataset/'\n",
        "\n",
        "train_directory = os.path.join(dataset, 'train')\n",
        "test_directory = os.path.join(dataset, 'validation')\n",
        "\n",
        "# Batch size\n",
        "batchSize = 7\n",
        "\n",
        "# Number of classes\n",
        "num_classes = len(os.listdir(train_directory))\n",
        "print(num_classes)\n",
        "\n",
        "# Load Data from folders\n",
        "data = {\n",
        "    'train': datasets.ImageFolder(root=train_directory, transform=image_transforms['train']),\n",
        "\n",
        "    'test': datasets.ImageFolder(root=test_directory, transform=image_transforms['test'])\n",
        "}\n",
        "\n",
        "# Get a mapping of the indices to the class names, in order to see the output classes of the test images.\n",
        "# idx_to_class = {v: k for k, v in data['train'].class_to_idx.items()}\n",
        "# print(idx_to_class)"
      ]
    },
    {
      "cell_type": "code",
      "execution_count": null,
      "metadata": {
        "id": "RNDw1nZB2k6C"
      },
      "outputs": [],
      "source": [
        "# Size of Data, to be used for calculating Average Loss and Accuracy\n",
        "train_data_size = len(data['train'])\n",
        "# valid_data_size = len(data['valid'])\n",
        "test_data_size = len(data['test'])\n",
        "\n",
        "# Create iterators for the Data loaded using DataLoader module\n",
        "train_data_loader = DataLoader(data['train'], batch_size=batchSize, shuffle=True)\n",
        "# valid_data_loader = DataLoader(data['valid'], batch_size=batchSize, shuffle=True)\n",
        "test_data_loader = DataLoader(data['test'], batch_size=batchSize, shuffle=True)"
      ]
    },
    {
      "cell_type": "code",
      "execution_count": null,
      "metadata": {
        "outputId": "a5043005-f7a4-4ab3-abf5-c1cd7191270f",
        "colab": {
          "base_uri": "https://localhost:8080/"
        },
        "id": "4wIYg2m22oE7"
      },
      "outputs": [
        {
          "output_type": "execute_result",
          "data": {
            "text/plain": [
              "(521, 323)"
            ]
          },
          "metadata": {},
          "execution_count": 38
        }
      ],
      "source": [
        "train_data_size, test_data_size"
      ]
    },
    {
      "cell_type": "code",
      "execution_count": null,
      "metadata": {
        "id": "jlAFUU_C2p2u"
      },
      "outputs": [],
      "source": [
        "input_size = (3,32,32)"
      ]
    },
    {
      "cell_type": "code",
      "execution_count": null,
      "metadata": {
        "outputId": "be32b2f5-7552-40bb-fe19-d5a7b1fe9627",
        "colab": {
          "base_uri": "https://localhost:8080/"
        },
        "id": "23peUfRF2s5A"
      },
      "outputs": [
        {
          "output_type": "stream",
          "name": "stdout",
          "text": [
            "521\n",
            "323\n"
          ]
        }
      ],
      "source": [
        "#######################################################\n",
        "#                  Create Dataloader                     #\n",
        "#######################################################\n",
        "\n",
        "# Turn train and test custom Dataset's into DataLoader's\n",
        "from torch.utils.data import DataLoader\n",
        "trainloader = DataLoader(dataset=data['train'], # use custom created train Dataset\n",
        "                                     batch_size=7, # how many samples per batch?\n",
        "                                     num_workers=0, # how many subprocesses to use for data loading? (higher = more)\n",
        "                                     shuffle=True) # shuffle the data?\n",
        "\n",
        "testloader = DataLoader(dataset=data['test'], # use custom created test Dataset\n",
        "                                    batch_size=7, \n",
        "                                    num_workers=0, \n",
        "                                    shuffle=False) # don't usually need to shuffle testing data\n",
        "\n",
        "train_data_size = len(trainloader.dataset)\n",
        "test_data_size = len(testloader.dataset)\n",
        "\n",
        "print(train_data_size)\n",
        "print(test_data_size)"
      ]
    },
    {
      "cell_type": "code",
      "execution_count": null,
      "metadata": {
        "colab": {
          "base_uri": "https://localhost:8080/"
        },
        "id": "aKwyInBZhtS4",
        "outputId": "87e82fc0-6a5d-43c5-fe8c-9b569efd4d19"
      },
      "outputs": [
        {
          "output_type": "stream",
          "name": "stderr",
          "text": [
            "/usr/local/lib/python3.7/dist-packages/torchvision/models/_utils.py:209: UserWarning: The parameter 'pretrained' is deprecated since 0.13 and will be removed in 0.15, please use 'weights' instead.\n",
            "  f\"The parameter '{pretrained_param}' is deprecated since 0.13 and will be removed in 0.15, \"\n",
            "/usr/local/lib/python3.7/dist-packages/torchvision/models/_utils.py:223: UserWarning: Arguments other than a weight enum or `None` for 'weights' are deprecated since 0.13 and will be removed in 0.15. The current behavior is equivalent to passing `weights=ResNet18_Weights.IMAGENET1K_V1`. You can also use `weights=ResNet18_Weights.DEFAULT` to get the most up-to-date weights.\n",
            "  warnings.warn(msg)\n"
          ]
        }
      ],
      "source": [
        "#######################\n",
        "# DEFINE YOUR OWN MODEL\n",
        "#######################\n",
        "class MyCustomResnet18(nn.Module):\n",
        "    def __init__(self, pretrained=True):\n",
        "        super().__init__()\n",
        "        resnet18 = models.resnet18(pretrained=pretrained)\n",
        "        self.features = nn.ModuleList(resnet18.children())[:-1]\n",
        "        self.features = nn.Sequential(*self.features)\n",
        "        in_features = resnet18.fc.in_features\n",
        "        self.fc0 = nn.Linear(in_features, 256)\n",
        "        self.bn1 = nn.BatchNorm1d(256, eps = 1e-2)\n",
        "        #self.conv1_drop = nn.Dropout1d()\n",
        "        self.classifier = nn.Linear(256, 4)\n",
        "        self.relu = nn.ReLU()\n",
        "        \n",
        "        # initialize all fc layers to xavier\n",
        "        for m in self.modules():\n",
        "           if isinstance(m, nn.Linear):\n",
        "                torch.nn.init.xavier_normal_(m.weight, gain = 1)\n",
        "\n",
        "    def forward(self, input_imgs):\n",
        "        output = self.features(input_imgs)\n",
        "        output = output.view(input_imgs.size(0), -1)\n",
        "       # and also our new layers. \n",
        "        output = self.relu(self.fc0(output))\n",
        "        output = self.bn1(output)\n",
        "        output = self.relu(self.classifier(output))\n",
        "                \n",
        "        return output\n",
        "\n",
        "model = MyCustomResnet18()"
      ]
    },
    {
      "cell_type": "code",
      "source": [
        "\n",
        "# 2. LOSS AND OPTIMIZER\n",
        "criterion = nn.CrossEntropyLoss()\n",
        "optimizer = optim.SGD(model.parameters(), lr=0.001, momentum=0.9)\n",
        "\n",
        "# 3. move the model to GPU\n",
        "device = torch.device('cuda:0' if torch.cuda.is_available() else 'cpu')\n",
        "model.to(device)"
      ],
      "metadata": {
        "colab": {
          "base_uri": "https://localhost:8080/"
        },
        "id": "d1t-u6LFlOVk",
        "outputId": "50e341ff-0fd8-4d45-8e8f-d144e27daa15"
      },
      "execution_count": null,
      "outputs": [
        {
          "output_type": "execute_result",
          "data": {
            "text/plain": [
              "MyCustomResnet18(\n",
              "  (features): Sequential(\n",
              "    (0): Conv2d(3, 64, kernel_size=(7, 7), stride=(2, 2), padding=(3, 3), bias=False)\n",
              "    (1): BatchNorm2d(64, eps=1e-05, momentum=0.1, affine=True, track_running_stats=True)\n",
              "    (2): ReLU(inplace=True)\n",
              "    (3): MaxPool2d(kernel_size=3, stride=2, padding=1, dilation=1, ceil_mode=False)\n",
              "    (4): Sequential(\n",
              "      (0): BasicBlock(\n",
              "        (conv1): Conv2d(64, 64, kernel_size=(3, 3), stride=(1, 1), padding=(1, 1), bias=False)\n",
              "        (bn1): BatchNorm2d(64, eps=1e-05, momentum=0.1, affine=True, track_running_stats=True)\n",
              "        (relu): ReLU(inplace=True)\n",
              "        (conv2): Conv2d(64, 64, kernel_size=(3, 3), stride=(1, 1), padding=(1, 1), bias=False)\n",
              "        (bn2): BatchNorm2d(64, eps=1e-05, momentum=0.1, affine=True, track_running_stats=True)\n",
              "      )\n",
              "      (1): BasicBlock(\n",
              "        (conv1): Conv2d(64, 64, kernel_size=(3, 3), stride=(1, 1), padding=(1, 1), bias=False)\n",
              "        (bn1): BatchNorm2d(64, eps=1e-05, momentum=0.1, affine=True, track_running_stats=True)\n",
              "        (relu): ReLU(inplace=True)\n",
              "        (conv2): Conv2d(64, 64, kernel_size=(3, 3), stride=(1, 1), padding=(1, 1), bias=False)\n",
              "        (bn2): BatchNorm2d(64, eps=1e-05, momentum=0.1, affine=True, track_running_stats=True)\n",
              "      )\n",
              "    )\n",
              "    (5): Sequential(\n",
              "      (0): BasicBlock(\n",
              "        (conv1): Conv2d(64, 128, kernel_size=(3, 3), stride=(2, 2), padding=(1, 1), bias=False)\n",
              "        (bn1): BatchNorm2d(128, eps=1e-05, momentum=0.1, affine=True, track_running_stats=True)\n",
              "        (relu): ReLU(inplace=True)\n",
              "        (conv2): Conv2d(128, 128, kernel_size=(3, 3), stride=(1, 1), padding=(1, 1), bias=False)\n",
              "        (bn2): BatchNorm2d(128, eps=1e-05, momentum=0.1, affine=True, track_running_stats=True)\n",
              "        (downsample): Sequential(\n",
              "          (0): Conv2d(64, 128, kernel_size=(1, 1), stride=(2, 2), bias=False)\n",
              "          (1): BatchNorm2d(128, eps=1e-05, momentum=0.1, affine=True, track_running_stats=True)\n",
              "        )\n",
              "      )\n",
              "      (1): BasicBlock(\n",
              "        (conv1): Conv2d(128, 128, kernel_size=(3, 3), stride=(1, 1), padding=(1, 1), bias=False)\n",
              "        (bn1): BatchNorm2d(128, eps=1e-05, momentum=0.1, affine=True, track_running_stats=True)\n",
              "        (relu): ReLU(inplace=True)\n",
              "        (conv2): Conv2d(128, 128, kernel_size=(3, 3), stride=(1, 1), padding=(1, 1), bias=False)\n",
              "        (bn2): BatchNorm2d(128, eps=1e-05, momentum=0.1, affine=True, track_running_stats=True)\n",
              "      )\n",
              "    )\n",
              "    (6): Sequential(\n",
              "      (0): BasicBlock(\n",
              "        (conv1): Conv2d(128, 256, kernel_size=(3, 3), stride=(2, 2), padding=(1, 1), bias=False)\n",
              "        (bn1): BatchNorm2d(256, eps=1e-05, momentum=0.1, affine=True, track_running_stats=True)\n",
              "        (relu): ReLU(inplace=True)\n",
              "        (conv2): Conv2d(256, 256, kernel_size=(3, 3), stride=(1, 1), padding=(1, 1), bias=False)\n",
              "        (bn2): BatchNorm2d(256, eps=1e-05, momentum=0.1, affine=True, track_running_stats=True)\n",
              "        (downsample): Sequential(\n",
              "          (0): Conv2d(128, 256, kernel_size=(1, 1), stride=(2, 2), bias=False)\n",
              "          (1): BatchNorm2d(256, eps=1e-05, momentum=0.1, affine=True, track_running_stats=True)\n",
              "        )\n",
              "      )\n",
              "      (1): BasicBlock(\n",
              "        (conv1): Conv2d(256, 256, kernel_size=(3, 3), stride=(1, 1), padding=(1, 1), bias=False)\n",
              "        (bn1): BatchNorm2d(256, eps=1e-05, momentum=0.1, affine=True, track_running_stats=True)\n",
              "        (relu): ReLU(inplace=True)\n",
              "        (conv2): Conv2d(256, 256, kernel_size=(3, 3), stride=(1, 1), padding=(1, 1), bias=False)\n",
              "        (bn2): BatchNorm2d(256, eps=1e-05, momentum=0.1, affine=True, track_running_stats=True)\n",
              "      )\n",
              "    )\n",
              "    (7): Sequential(\n",
              "      (0): BasicBlock(\n",
              "        (conv1): Conv2d(256, 512, kernel_size=(3, 3), stride=(2, 2), padding=(1, 1), bias=False)\n",
              "        (bn1): BatchNorm2d(512, eps=1e-05, momentum=0.1, affine=True, track_running_stats=True)\n",
              "        (relu): ReLU(inplace=True)\n",
              "        (conv2): Conv2d(512, 512, kernel_size=(3, 3), stride=(1, 1), padding=(1, 1), bias=False)\n",
              "        (bn2): BatchNorm2d(512, eps=1e-05, momentum=0.1, affine=True, track_running_stats=True)\n",
              "        (downsample): Sequential(\n",
              "          (0): Conv2d(256, 512, kernel_size=(1, 1), stride=(2, 2), bias=False)\n",
              "          (1): BatchNorm2d(512, eps=1e-05, momentum=0.1, affine=True, track_running_stats=True)\n",
              "        )\n",
              "      )\n",
              "      (1): BasicBlock(\n",
              "        (conv1): Conv2d(512, 512, kernel_size=(3, 3), stride=(1, 1), padding=(1, 1), bias=False)\n",
              "        (bn1): BatchNorm2d(512, eps=1e-05, momentum=0.1, affine=True, track_running_stats=True)\n",
              "        (relu): ReLU(inplace=True)\n",
              "        (conv2): Conv2d(512, 512, kernel_size=(3, 3), stride=(1, 1), padding=(1, 1), bias=False)\n",
              "        (bn2): BatchNorm2d(512, eps=1e-05, momentum=0.1, affine=True, track_running_stats=True)\n",
              "      )\n",
              "    )\n",
              "    (8): AdaptiveAvgPool2d(output_size=(1, 1))\n",
              "  )\n",
              "  (fc0): Linear(in_features=512, out_features=256, bias=True)\n",
              "  (bn1): BatchNorm1d(256, eps=0.01, momentum=0.1, affine=True, track_running_stats=True)\n",
              "  (classifier): Linear(in_features=256, out_features=4, bias=True)\n",
              "  (relu): ReLU()\n",
              ")"
            ]
          },
          "metadata": {},
          "execution_count": 42
        }
      ]
    },
    {
      "cell_type": "code",
      "execution_count": null,
      "metadata": {
        "id": "KkoLX3qo2zkU"
      },
      "outputs": [],
      "source": [
        "import time # to calculate training time\n",
        "\n",
        "def train_and_validate(model, loss_criterion, optimizer, epochs=25):\n",
        "    '''\n",
        "    Function to train and validate\n",
        "    Parameters\n",
        "        :param model: Model to train and validate\n",
        "        :param loss_criterion: Loss Criterion to minimize\n",
        "        :param optimizer: Optimizer for computing gradients\n",
        "        :param epochs: Number of epochs (default=25)\n",
        "  \n",
        "    Returns\n",
        "        model: Trained Model with best validation accuracy\n",
        "        history: (dict object): Having training loss, accuracy and validation loss, accuracy\n",
        "    '''\n",
        "    \n",
        "    start = time.time()\n",
        "    history = []\n",
        "    best_acc = 0.0\n",
        "\n",
        "    for epoch in range(epochs):\n",
        "        epoch_start = time.time()\n",
        "        print(\"Epoch: {}/{}\".format(epoch+1, epochs))\n",
        "        \n",
        "        # Set to training mode\n",
        "        model.train()\n",
        "        \n",
        "        # Loss and Accuracy within the epoch\n",
        "        train_loss = 0.0\n",
        "        train_acc = 0.0\n",
        "        \n",
        "        valid_loss = 0.0\n",
        "        valid_acc = 0.0\n",
        "        \n",
        "        for i, (inputs, labels) in enumerate(trainloader):\n",
        "\n",
        "            inputs = inputs.to(device)\n",
        "            labels = labels.to(device)\n",
        "            \n",
        "            # Clean existing gradients\n",
        "            optimizer.zero_grad()\n",
        "            \n",
        "            # Forward pass - compute outputs on input data using the model\n",
        "            outputs = model(inputs)\n",
        "            \n",
        "            # Compute loss\n",
        "            loss = loss_criterion(outputs, labels)\n",
        "            \n",
        "            # Backpropagate the gradients\n",
        "            loss.backward()\n",
        "            \n",
        "            # Update the parameters\n",
        "            optimizer.step()\n",
        "            \n",
        "            # Compute the total loss for the batch and add it to train_loss\n",
        "            train_loss += loss.item() * inputs.size(0)\n",
        "            \n",
        "            # Compute the accuracy\n",
        "            ret, predictions = torch.max(outputs.data, 1)\n",
        "            correct_counts = predictions.eq(labels.data.view_as(predictions))\n",
        "            \n",
        "            # Convert correct_counts to float and then compute the mean\n",
        "            acc = torch.mean(correct_counts.type(torch.FloatTensor))\n",
        "            \n",
        "            # Compute total accuracy in the whole batch and add to train_acc\n",
        "            train_acc += acc.item() * inputs.size(0)\n",
        "            \n",
        "            #print(\"Batch number: {:03d}, Training: Loss: {:.4f}, Accuracy: {:.4f}\".format(i, loss.item(), acc.item()))\n",
        "\n",
        "            \n",
        "        # Validation - No gradient tracking needed\n",
        "        with torch.no_grad():\n",
        "\n",
        "            # Set to evaluation mode\n",
        "            model.eval()\n",
        "\n",
        "            # Validation loop\n",
        "            for j, (inputs, labels) in enumerate(testloader):\n",
        "                inputs = inputs.to(device)\n",
        "                labels = labels.to(device)\n",
        "\n",
        "                # Forward pass - compute outputs on input data using the model\n",
        "                outputs = model(inputs)\n",
        "\n",
        "                # Compute loss\n",
        "                loss = loss_criterion(outputs, labels)\n",
        "\n",
        "                # Compute the total loss for the batch and add it to valid_loss\n",
        "                valid_loss += loss.item() * inputs.size(0)\n",
        "\n",
        "                # Calculate validation accuracy\n",
        "                ret, predictions = torch.max(outputs.data, 1)\n",
        "                correct_counts = predictions.eq(labels.data.view_as(predictions))\n",
        "\n",
        "                # Convert correct_counts to float and then compute the mean\n",
        "                acc = torch.mean(correct_counts.type(torch.FloatTensor))\n",
        "\n",
        "                # Compute total accuracy in the whole batch and add to valid_acc\n",
        "                valid_acc += acc.item() * inputs.size(0)\n",
        "\n",
        "                #print(\"Validation Batch number: {:03d}, Validation: Loss: {:.4f}, Accuracy: {:.4f}\".format(j, loss.item(), acc.item()))\n",
        "            \n",
        "        # Find average training loss and training accuracy\n",
        "        avg_train_loss = train_loss/train_data_size \n",
        "        avg_train_acc = train_acc/train_data_size\n",
        "\n",
        "        # Find average training loss and training accuracy\n",
        "        avg_test_loss = valid_loss/test_data_size \n",
        "        avg_test_acc = valid_acc/test_data_size\n",
        "\n",
        "        history.append([avg_train_loss, avg_test_loss, avg_train_acc, avg_test_acc])\n",
        "                \n",
        "        epoch_end = time.time()\n",
        "    \n",
        "        print(\"Epoch : {:03d}, Training: Loss: {:.4f}, Accuracy: {:.4f}%, \\n\\t\\tValidation : Loss : {:.4f}, Accuracy: {:.4f}%, Time: {:.4f}s\".format(epoch, avg_train_loss, avg_train_acc*100, avg_test_loss, avg_test_acc*100, epoch_end-epoch_start))\n",
        "        \n",
        "        # Save if the model has best accuracy till now\n",
        "        torch.save(model, 'Assignment2_model'+str(epoch)+'.pt')\n",
        "            \n",
        "    return model, history"
      ]
    },
    {
      "cell_type": "code",
      "execution_count": null,
      "metadata": {
        "outputId": "e3078f4d-e02c-411d-ee11-77d8cf6bb80d",
        "colab": {
          "base_uri": "https://localhost:8080/"
        },
        "id": "KAHSwXk8225I"
      },
      "outputs": [
        {
          "output_type": "stream",
          "name": "stdout",
          "text": [
            "Epoch: 1/30\n",
            "Epoch : 000, Training: Loss: 1.4018, Accuracy: 44.1459%, \n",
            "\t\tValidation : Loss : 1.3255, Accuracy: 50.1548%, Time: 151.4703s\n",
            "Epoch: 2/30\n",
            "Epoch : 001, Training: Loss: 1.1279, Accuracy: 56.6219%, \n",
            "\t\tValidation : Loss : 1.1190, Accuracy: 58.2043%, Time: 17.0861s\n",
            "Epoch: 3/30\n",
            "Epoch : 002, Training: Loss: 1.0448, Accuracy: 63.5317%, \n",
            "\t\tValidation : Loss : 0.9833, Accuracy: 63.7771%, Time: 17.8449s\n",
            "Epoch: 4/30\n",
            "Epoch : 003, Training: Loss: 0.9291, Accuracy: 65.4511%, \n",
            "\t\tValidation : Loss : 1.1747, Accuracy: 58.5139%, Time: 17.1119s\n",
            "Epoch: 5/30\n",
            "Epoch : 004, Training: Loss: 0.8588, Accuracy: 70.0576%, \n",
            "\t\tValidation : Loss : 1.2375, Accuracy: 59.7523%, Time: 19.5596s\n",
            "Epoch: 6/30\n",
            "Epoch : 005, Training: Loss: 0.8921, Accuracy: 69.0979%, \n",
            "\t\tValidation : Loss : 1.0391, Accuracy: 63.1579%, Time: 17.7525s\n",
            "Epoch: 7/30\n",
            "Epoch : 006, Training: Loss: 0.7641, Accuracy: 73.1286%, \n",
            "\t\tValidation : Loss : 0.8988, Accuracy: 67.8019%, Time: 16.8634s\n",
            "Epoch: 8/30\n",
            "Epoch : 007, Training: Loss: 0.6721, Accuracy: 78.1190%, \n",
            "\t\tValidation : Loss : 0.9372, Accuracy: 64.7059%, Time: 17.8578s\n",
            "Epoch: 9/30\n",
            "Epoch : 008, Training: Loss: 0.6453, Accuracy: 78.3109%, \n",
            "\t\tValidation : Loss : 0.7841, Accuracy: 74.9226%, Time: 17.2641s\n",
            "Epoch: 10/30\n",
            "Epoch : 009, Training: Loss: 0.6788, Accuracy: 77.9271%, \n",
            "\t\tValidation : Loss : 0.8824, Accuracy: 66.8731%, Time: 17.2538s\n",
            "Epoch: 11/30\n",
            "Epoch : 010, Training: Loss: 0.6391, Accuracy: 80.0384%, \n",
            "\t\tValidation : Loss : 0.8792, Accuracy: 66.5635%, Time: 17.8535s\n",
            "Epoch: 12/30\n",
            "Epoch : 011, Training: Loss: 0.5738, Accuracy: 80.6142%, \n",
            "\t\tValidation : Loss : 0.9595, Accuracy: 63.7771%, Time: 17.0337s\n",
            "Epoch: 13/30\n",
            "Epoch : 012, Training: Loss: 0.5346, Accuracy: 83.1094%, \n",
            "\t\tValidation : Loss : 0.7197, Accuracy: 73.3746%, Time: 17.6778s\n",
            "Epoch: 14/30\n",
            "Epoch : 013, Training: Loss: 0.4980, Accuracy: 82.9175%, \n",
            "\t\tValidation : Loss : 0.9304, Accuracy: 69.9690%, Time: 16.8129s\n",
            "Epoch: 15/30\n",
            "Epoch : 014, Training: Loss: 0.4589, Accuracy: 84.8369%, \n",
            "\t\tValidation : Loss : 0.8299, Accuracy: 69.9690%, Time: 17.6177s\n",
            "Epoch: 16/30\n",
            "Epoch : 015, Training: Loss: 0.4833, Accuracy: 83.1094%, \n",
            "\t\tValidation : Loss : 0.8673, Accuracy: 69.9690%, Time: 17.5980s\n",
            "Epoch: 17/30\n",
            "Epoch : 016, Training: Loss: 0.4487, Accuracy: 84.4530%, \n",
            "\t\tValidation : Loss : 1.0595, Accuracy: 60.6811%, Time: 17.4501s\n",
            "Epoch: 18/30\n",
            "Epoch : 017, Training: Loss: 0.3930, Accuracy: 86.1804%, \n",
            "\t\tValidation : Loss : 0.9990, Accuracy: 63.4675%, Time: 18.0317s\n",
            "Epoch: 19/30\n",
            "Epoch : 018, Training: Loss: 0.4260, Accuracy: 86.5643%, \n",
            "\t\tValidation : Loss : 0.8510, Accuracy: 73.0650%, Time: 16.9409s\n",
            "Epoch: 20/30\n",
            "Epoch : 019, Training: Loss: 0.3603, Accuracy: 89.2514%, \n",
            "\t\tValidation : Loss : 0.8054, Accuracy: 76.1610%, Time: 17.6364s\n",
            "Epoch: 21/30\n",
            "Epoch : 020, Training: Loss: 0.4184, Accuracy: 86.7562%, \n",
            "\t\tValidation : Loss : 0.8482, Accuracy: 72.1362%, Time: 17.1370s\n",
            "Epoch: 22/30\n",
            "Epoch : 021, Training: Loss: 0.4174, Accuracy: 86.1804%, \n",
            "\t\tValidation : Loss : 0.8537, Accuracy: 71.5170%, Time: 17.4324s\n",
            "Epoch: 23/30\n",
            "Epoch : 022, Training: Loss: 0.4466, Accuracy: 84.8369%, \n",
            "\t\tValidation : Loss : 0.9675, Accuracy: 65.9443%, Time: 17.5827s\n",
            "Epoch: 24/30\n",
            "Epoch : 023, Training: Loss: 0.3614, Accuracy: 87.3321%, \n",
            "\t\tValidation : Loss : 0.8852, Accuracy: 71.2074%, Time: 17.1093s\n",
            "Epoch: 25/30\n",
            "Epoch : 024, Training: Loss: 0.3882, Accuracy: 87.5240%, \n",
            "\t\tValidation : Loss : 0.8000, Accuracy: 73.6842%, Time: 17.8315s\n",
            "Epoch: 26/30\n",
            "Epoch : 025, Training: Loss: 0.4551, Accuracy: 85.9885%, \n",
            "\t\tValidation : Loss : 0.9546, Accuracy: 69.3498%, Time: 16.9851s\n",
            "Epoch: 27/30\n",
            "Epoch : 026, Training: Loss: 0.3613, Accuracy: 88.0998%, \n",
            "\t\tValidation : Loss : 0.9655, Accuracy: 67.4923%, Time: 17.5669s\n",
            "Epoch: 28/30\n",
            "Epoch : 027, Training: Loss: 0.4623, Accuracy: 84.8369%, \n",
            "\t\tValidation : Loss : 0.9733, Accuracy: 68.1115%, Time: 17.5288s\n",
            "Epoch: 29/30\n",
            "Epoch : 028, Training: Loss: 0.3850, Accuracy: 86.5643%, \n",
            "\t\tValidation : Loss : 1.0044, Accuracy: 62.2291%, Time: 17.3650s\n",
            "Epoch: 30/30\n",
            "Epoch : 029, Training: Loss: 0.3685, Accuracy: 87.3321%, \n",
            "\t\tValidation : Loss : 1.0545, Accuracy: 63.4675%, Time: 17.7356s\n"
          ]
        }
      ],
      "source": [
        "# 4. Train the model for 10 epochs\n",
        " \n",
        "num_epochs = 30\n",
        "trained_model, history = train_and_validate(model, criterion, optimizer, num_epochs)"
      ]
    },
    {
      "cell_type": "markdown",
      "source": [
        ">Epoch: 30/30\n",
        "Epoch : 029, Training: Loss: 0.3685, Accuracy: 87.3321%, \n",
        "\t\tValidation : Loss : 1.0545, Accuracy: 63.4675%, Time: 17.7356s"
      ],
      "metadata": {
        "id": "E3Pg5VRVSFxG"
      }
    },
    {
      "cell_type": "markdown",
      "source": [
        "#3) The training of the model on the dataset after data-centric strategies"
      ],
      "metadata": {
        "id": "S9Nrxtc3VbEg"
      }
    },
    {
      "cell_type": "code",
      "source": [
        "#mount the google drive\n",
        "from google.colab import drive\n",
        "drive.mount('/content/gdrive')"
      ],
      "metadata": {
        "colab": {
          "base_uri": "https://localhost:8080/"
        },
        "id": "2WYcgLYshCwH",
        "outputId": "97f6da86-e3c7-483f-e324-78c35664d9b6"
      },
      "execution_count": null,
      "outputs": [
        {
          "output_type": "stream",
          "name": "stdout",
          "text": [
            "Mounted at /content/gdrive\n"
          ]
        }
      ]
    },
    {
      "cell_type": "code",
      "execution_count": null,
      "metadata": {
        "colab": {
          "base_uri": "https://localhost:8080/"
        },
        "id": "dK3FAHghVpcL",
        "outputId": "ed10669b-2fb1-4702-807c-4088d75dceef"
      },
      "outputs": [
        {
          "output_type": "stream",
          "name": "stdout",
          "text": [
            "Downloading...\n",
            "From: https://drive.google.com/uc?id=1yHgmyJ-VOJZKpPoVsXWNEF_EZPxtPAfx\n",
            "To: /content/fruits_fixedfinal.zip\n",
            "100% 29.5M/29.5M [00:00<00:00, 92.3MB/s]\n"
          ]
        }
      ],
      "source": [
        "\n",
        "!gdown https://drive.google.com/uc?id=1yHgmyJ-VOJZKpPoVsXWNEF_EZPxtPAfx\n"
      ]
    },
    {
      "cell_type": "code",
      "source": [
        "\n",
        "!unzip  fruits_fixedfinal.zip -d /content/gdrive/MyDrive/fruits_fixedfinal\n",
        "#use dataset path as ;   /content/gdrive/MyDrive/fruit_dataset"
      ],
      "metadata": {
        "colab": {
          "base_uri": "https://localhost:8080/"
        },
        "id": "8qEnPVxNWGa3",
        "outputId": "1e6cd87f-00ad-4449-d845-a530c74ebc37"
      },
      "execution_count": null,
      "outputs": [
        {
          "output_type": "stream",
          "name": "stdout",
          "text": [
            "Archive:  fruits_fixedfinal.zip\n",
            "replace /content/gdrive/MyDrive/fruits_fixedfinal/fruits_fixedfinal/train/durian/0.jpg? [y]es, [n]o, [A]ll, [N]one, [r]ename: "
          ]
        }
      ]
    },
    {
      "cell_type": "markdown",
      "source": [
        "#run CNN"
      ],
      "metadata": {
        "id": "amwcvr628szH"
      }
    },
    {
      "cell_type": "code",
      "execution_count": null,
      "metadata": {
        "id": "gu5EoMTZpGPe"
      },
      "outputs": [],
      "source": [
        "import torch, torchvision\n",
        "import torch.nn as nn\n",
        "import torch.nn.functional as F\n",
        "import torch.optim as optim\n",
        "import time\n",
        "import numpy as np\n",
        "import matplotlib.pyplot as plt\n",
        "import os\n",
        "import cv2\n",
        "import glob\n",
        "import numpy\n",
        "import random\n",
        "\n",
        "from PIL import Image\n",
        "from torch.utils.data import Dataset\n",
        "from torch.utils.data import DataLoader\n",
        "from torchvision import datasets, models, transforms\n",
        "from torchsummary import summary"
      ]
    },
    {
      "cell_type": "code",
      "execution_count": null,
      "metadata": {
        "id": "lFm-qIL773p4"
      },
      "outputs": [],
      "source": [
        "# Applying Transforms to the Data\n",
        "import torchvision\n",
        "import torchvision.transforms as transforms\n",
        "\n",
        "image_transforms = {\n",
        "    'train': transforms.Compose([\n",
        "       # transforms.RandomResizedCrop(size=256, scale=(0.8, 1.0)),\n",
        "        transforms.Resize(size=(32,32)),\n",
        "        #transforms.RandomRotation(degrees=15),\n",
        "        #transforms.RandomHorizontalFlip(),\n",
        "        #transforms.CenterCrop(size=224), #centre crop has to be smaller than og size\n",
        "        transforms.ToTensor(),\n",
        "        #transforms.Normalize([0.5, 0.5, 0.5], #this for CIFOS but for the fruit data use diff values\n",
        "         #                    [0.5, 0.5, 0.5])\n",
        "        transforms.Normalize([0.485, 0.456, 0.406],\n",
        "                             [0.229, 0.224, 0.225])\n",
        "    ]),\n",
        "    'test': transforms.Compose([\n",
        "        transforms.Resize(size=(32,32)),\n",
        "      #  transforms.CenterCrop(size=224),\n",
        "        transforms.ToTensor(),\n",
        "        transforms.Normalize([0.485, 0.456, 0.406],\n",
        "                             [0.229, 0.224, 0.225])\n",
        "    ])\n",
        "}\n"
      ]
    },
    {
      "cell_type": "code",
      "execution_count": null,
      "metadata": {
        "colab": {
          "base_uri": "https://localhost:8080/"
        },
        "outputId": "5eb4539c-85c0-4ada-b192-5a99f6d024a2",
        "id": "MrYDf6Ry75ir"
      },
      "outputs": [
        {
          "output_type": "stream",
          "name": "stdout",
          "text": [
            "4\n"
          ]
        }
      ],
      "source": [
        "# Load the Data\n",
        "\n",
        "# Set train and valid directory paths\n",
        "\n",
        "dataset = '/content/gdrive/MyDrive/fruits_fixedfinal/fruits_fixedfinal'\n",
        "\n",
        "train_directory = os.path.join(dataset, 'train')\n",
        "test_directory = os.path.join(dataset, 'validation')\n",
        "\n",
        "# Batch size\n",
        "batchSize = 7\n",
        "\n",
        "# Number of classes\n",
        "num_classes = len(os.listdir(train_directory))\n",
        "print(num_classes)\n",
        "\n",
        "# Load Data from folders\n",
        "data = {\n",
        "    'train': datasets.ImageFolder(root=train_directory, transform=image_transforms['train']),\n",
        "\n",
        "    'test': datasets.ImageFolder(root=test_directory, transform=image_transforms['test'])\n",
        "}\n",
        "\n",
        "# Get a mapping of the indices to the class names, in order to see the output classes of the test images.\n",
        "# idx_to_class = {v: k for k, v in data['train'].class_to_idx.items()}\n",
        "# print(idx_to_class)"
      ]
    },
    {
      "cell_type": "code",
      "execution_count": null,
      "metadata": {
        "id": "TvckKy--8G4X"
      },
      "outputs": [],
      "source": [
        "# Size of Data, to be used for calculating Average Loss and Accuracy\n",
        "train_data_size = len(data['train'])\n",
        "# valid_data_size = len(data['valid'])\n",
        "test_data_size = len(data['test'])\n",
        "\n",
        "# Create iterators for the Data loaded using DataLoader module\n",
        "train_data_loader = DataLoader(data['train'], batch_size=batchSize, shuffle=True)\n",
        "# valid_data_loader = DataLoader(data['valid'], batch_size=batchSize, shuffle=True)\n",
        "test_data_loader = DataLoader(data['test'], batch_size=batchSize, shuffle=True)"
      ]
    },
    {
      "cell_type": "code",
      "execution_count": null,
      "metadata": {
        "outputId": "28dfad64-50b4-484f-d6e0-60386603682a",
        "colab": {
          "base_uri": "https://localhost:8080/"
        },
        "id": "hgbHeETj8NL8"
      },
      "outputs": [
        {
          "output_type": "execute_result",
          "data": {
            "text/plain": [
              "(1600, 400)"
            ]
          },
          "metadata": {},
          "execution_count": 6
        }
      ],
      "source": [
        "train_data_size, test_data_size"
      ]
    },
    {
      "cell_type": "code",
      "execution_count": null,
      "metadata": {
        "id": "BHFwCNvK8OKa"
      },
      "outputs": [],
      "source": [
        "input_size = (3,32,32)"
      ]
    },
    {
      "cell_type": "code",
      "execution_count": null,
      "metadata": {
        "outputId": "c72ffde9-a99d-4515-88fa-c5242c271027",
        "colab": {
          "base_uri": "https://localhost:8080/"
        },
        "id": "-9-cN6lm8Pko"
      },
      "outputs": [
        {
          "output_type": "stream",
          "name": "stdout",
          "text": [
            "1600\n",
            "400\n"
          ]
        }
      ],
      "source": [
        "#######################################################\n",
        "#                  Create Dataloader                     #\n",
        "#######################################################\n",
        "\n",
        "# Turn train and test custom Dataset's into DataLoader's\n",
        "from torch.utils.data import DataLoader\n",
        "trainloader = DataLoader(dataset=data['train'], # use custom created train Dataset\n",
        "                                     batch_size=7, # how many samples per batch?\n",
        "                                     num_workers=0, # how many subprocesses to use for data loading? (higher = more)\n",
        "                                     shuffle=True) # shuffle the data?\n",
        "\n",
        "testloader = DataLoader(dataset=data['test'], # use custom created test Dataset\n",
        "                                    batch_size=7, \n",
        "                                    num_workers=0, \n",
        "                                    shuffle=False,) # don't usually need to shuffle testing data\n",
        "\n",
        "train_data_size = len(trainloader.dataset)\n",
        "test_data_size = len(testloader.dataset)\n",
        "\n",
        "print(train_data_size)\n",
        "print(test_data_size)"
      ]
    },
    {
      "cell_type": "code",
      "execution_count": null,
      "metadata": {
        "colab": {
          "base_uri": "https://localhost:8080/",
          "height": 156,
          "referenced_widgets": [
            "62bfd0fb5e144030933d332859399ab2",
            "151e9dc1b7454a308a289c092d51670d",
            "0cb8d4a436ec4e9b81a108566c701cc7",
            "c0143c969b444239ade6394c54899ff7",
            "d950e15a609d41078433a60a26c80c01",
            "e29bcbac19d641b0bc215e0e738b6373",
            "3a5f7b94f632420ea5950348b45be4c8",
            "cec82aa137f24210a85e122595b551e8",
            "2810787de5c24410b63011e2bbf44ed4",
            "16f2a9b4b95e442b81eecf154e276df6",
            "92bda2be834e44a7ab68b9bcdbc5c4dc"
          ]
        },
        "outputId": "826a93af-587c-4941-e0b9-f5537c194f81",
        "id": "KQBdsdUi8c3b"
      },
      "outputs": [
        {
          "output_type": "stream",
          "name": "stderr",
          "text": [
            "/usr/local/lib/python3.7/dist-packages/torchvision/models/_utils.py:209: UserWarning: The parameter 'pretrained' is deprecated since 0.13 and will be removed in 0.15, please use 'weights' instead.\n",
            "  f\"The parameter '{pretrained_param}' is deprecated since 0.13 and will be removed in 0.15, \"\n",
            "/usr/local/lib/python3.7/dist-packages/torchvision/models/_utils.py:223: UserWarning: Arguments other than a weight enum or `None` for 'weights' are deprecated since 0.13 and will be removed in 0.15. The current behavior is equivalent to passing `weights=ResNet18_Weights.IMAGENET1K_V1`. You can also use `weights=ResNet18_Weights.DEFAULT` to get the most up-to-date weights.\n",
            "  warnings.warn(msg)\n",
            "Downloading: \"https://download.pytorch.org/models/resnet18-f37072fd.pth\" to /root/.cache/torch/hub/checkpoints/resnet18-f37072fd.pth\n"
          ]
        },
        {
          "output_type": "display_data",
          "data": {
            "text/plain": [
              "  0%|          | 0.00/44.7M [00:00<?, ?B/s]"
            ],
            "application/vnd.jupyter.widget-view+json": {
              "version_major": 2,
              "version_minor": 0,
              "model_id": "62bfd0fb5e144030933d332859399ab2"
            }
          },
          "metadata": {}
        }
      ],
      "source": [
        "#######################\n",
        "# DEFINE YOUR OWN MODEL\n",
        "#######################\n",
        "class MyCustomResnet18(nn.Module):\n",
        "    def __init__(self, pretrained=True):\n",
        "        super().__init__()\n",
        "        resnet18 = models.resnet18(pretrained=pretrained)\n",
        "        self.features = nn.ModuleList(resnet18.children())[:-1]\n",
        "        self.features = nn.Sequential(*self.features)\n",
        "        in_features = resnet18.fc.in_features\n",
        "        self.fc0 = nn.Linear(in_features, 256)\n",
        "        self.bn1 = nn.BatchNorm1d(256, eps = 1e-2)\n",
        "      #  self.conv1_drop = nn.Dropout1d()\n",
        "        self.classifier = nn.Linear(256, 4)\n",
        "        self.relu = nn.ReLU()\n",
        "        \n",
        "        # initialize all fc layers to xavier\n",
        "        for m in self.modules():\n",
        "           if isinstance(m, nn.Linear):\n",
        "                torch.nn.init.xavier_normal_(m.weight, gain = 1)\n",
        "\n",
        "    def forward(self, input_imgs):\n",
        "        output = self.features(input_imgs)\n",
        "        output = output.view(input_imgs.size(0), -1)\n",
        "       # and also our new layers. \n",
        "        output = self.relu(self.fc0(output))\n",
        "        output = self.bn1(output)\n",
        "       # output = self.conv1_drop(output)\n",
        "        output = self.relu(self.classifier(output))\n",
        "                \n",
        "        return output\n",
        "\n",
        "model = MyCustomResnet18()"
      ]
    },
    {
      "cell_type": "code",
      "source": [
        "\n",
        "# 2. LOSS AND OPTIMIZER\n",
        "criterion = nn.CrossEntropyLoss()\n",
        "optimizer = optim.SGD(model.parameters(), lr=0.001, momentum=0.9)\n",
        "# 3. move the model to GPU\n",
        "device = torch.device('cuda:0' if torch.cuda.is_available() else 'cpu')\n",
        "model.to(device)"
      ],
      "metadata": {
        "colab": {
          "base_uri": "https://localhost:8080/"
        },
        "outputId": "839721c5-615a-432a-bfd7-e2c5ca25f823",
        "id": "RqoZZLFH8fPo"
      },
      "execution_count": null,
      "outputs": [
        {
          "output_type": "execute_result",
          "data": {
            "text/plain": [
              "MyCustomResnet18(\n",
              "  (features): Sequential(\n",
              "    (0): Conv2d(3, 64, kernel_size=(7, 7), stride=(2, 2), padding=(3, 3), bias=False)\n",
              "    (1): BatchNorm2d(64, eps=1e-05, momentum=0.1, affine=True, track_running_stats=True)\n",
              "    (2): ReLU(inplace=True)\n",
              "    (3): MaxPool2d(kernel_size=3, stride=2, padding=1, dilation=1, ceil_mode=False)\n",
              "    (4): Sequential(\n",
              "      (0): BasicBlock(\n",
              "        (conv1): Conv2d(64, 64, kernel_size=(3, 3), stride=(1, 1), padding=(1, 1), bias=False)\n",
              "        (bn1): BatchNorm2d(64, eps=1e-05, momentum=0.1, affine=True, track_running_stats=True)\n",
              "        (relu): ReLU(inplace=True)\n",
              "        (conv2): Conv2d(64, 64, kernel_size=(3, 3), stride=(1, 1), padding=(1, 1), bias=False)\n",
              "        (bn2): BatchNorm2d(64, eps=1e-05, momentum=0.1, affine=True, track_running_stats=True)\n",
              "      )\n",
              "      (1): BasicBlock(\n",
              "        (conv1): Conv2d(64, 64, kernel_size=(3, 3), stride=(1, 1), padding=(1, 1), bias=False)\n",
              "        (bn1): BatchNorm2d(64, eps=1e-05, momentum=0.1, affine=True, track_running_stats=True)\n",
              "        (relu): ReLU(inplace=True)\n",
              "        (conv2): Conv2d(64, 64, kernel_size=(3, 3), stride=(1, 1), padding=(1, 1), bias=False)\n",
              "        (bn2): BatchNorm2d(64, eps=1e-05, momentum=0.1, affine=True, track_running_stats=True)\n",
              "      )\n",
              "    )\n",
              "    (5): Sequential(\n",
              "      (0): BasicBlock(\n",
              "        (conv1): Conv2d(64, 128, kernel_size=(3, 3), stride=(2, 2), padding=(1, 1), bias=False)\n",
              "        (bn1): BatchNorm2d(128, eps=1e-05, momentum=0.1, affine=True, track_running_stats=True)\n",
              "        (relu): ReLU(inplace=True)\n",
              "        (conv2): Conv2d(128, 128, kernel_size=(3, 3), stride=(1, 1), padding=(1, 1), bias=False)\n",
              "        (bn2): BatchNorm2d(128, eps=1e-05, momentum=0.1, affine=True, track_running_stats=True)\n",
              "        (downsample): Sequential(\n",
              "          (0): Conv2d(64, 128, kernel_size=(1, 1), stride=(2, 2), bias=False)\n",
              "          (1): BatchNorm2d(128, eps=1e-05, momentum=0.1, affine=True, track_running_stats=True)\n",
              "        )\n",
              "      )\n",
              "      (1): BasicBlock(\n",
              "        (conv1): Conv2d(128, 128, kernel_size=(3, 3), stride=(1, 1), padding=(1, 1), bias=False)\n",
              "        (bn1): BatchNorm2d(128, eps=1e-05, momentum=0.1, affine=True, track_running_stats=True)\n",
              "        (relu): ReLU(inplace=True)\n",
              "        (conv2): Conv2d(128, 128, kernel_size=(3, 3), stride=(1, 1), padding=(1, 1), bias=False)\n",
              "        (bn2): BatchNorm2d(128, eps=1e-05, momentum=0.1, affine=True, track_running_stats=True)\n",
              "      )\n",
              "    )\n",
              "    (6): Sequential(\n",
              "      (0): BasicBlock(\n",
              "        (conv1): Conv2d(128, 256, kernel_size=(3, 3), stride=(2, 2), padding=(1, 1), bias=False)\n",
              "        (bn1): BatchNorm2d(256, eps=1e-05, momentum=0.1, affine=True, track_running_stats=True)\n",
              "        (relu): ReLU(inplace=True)\n",
              "        (conv2): Conv2d(256, 256, kernel_size=(3, 3), stride=(1, 1), padding=(1, 1), bias=False)\n",
              "        (bn2): BatchNorm2d(256, eps=1e-05, momentum=0.1, affine=True, track_running_stats=True)\n",
              "        (downsample): Sequential(\n",
              "          (0): Conv2d(128, 256, kernel_size=(1, 1), stride=(2, 2), bias=False)\n",
              "          (1): BatchNorm2d(256, eps=1e-05, momentum=0.1, affine=True, track_running_stats=True)\n",
              "        )\n",
              "      )\n",
              "      (1): BasicBlock(\n",
              "        (conv1): Conv2d(256, 256, kernel_size=(3, 3), stride=(1, 1), padding=(1, 1), bias=False)\n",
              "        (bn1): BatchNorm2d(256, eps=1e-05, momentum=0.1, affine=True, track_running_stats=True)\n",
              "        (relu): ReLU(inplace=True)\n",
              "        (conv2): Conv2d(256, 256, kernel_size=(3, 3), stride=(1, 1), padding=(1, 1), bias=False)\n",
              "        (bn2): BatchNorm2d(256, eps=1e-05, momentum=0.1, affine=True, track_running_stats=True)\n",
              "      )\n",
              "    )\n",
              "    (7): Sequential(\n",
              "      (0): BasicBlock(\n",
              "        (conv1): Conv2d(256, 512, kernel_size=(3, 3), stride=(2, 2), padding=(1, 1), bias=False)\n",
              "        (bn1): BatchNorm2d(512, eps=1e-05, momentum=0.1, affine=True, track_running_stats=True)\n",
              "        (relu): ReLU(inplace=True)\n",
              "        (conv2): Conv2d(512, 512, kernel_size=(3, 3), stride=(1, 1), padding=(1, 1), bias=False)\n",
              "        (bn2): BatchNorm2d(512, eps=1e-05, momentum=0.1, affine=True, track_running_stats=True)\n",
              "        (downsample): Sequential(\n",
              "          (0): Conv2d(256, 512, kernel_size=(1, 1), stride=(2, 2), bias=False)\n",
              "          (1): BatchNorm2d(512, eps=1e-05, momentum=0.1, affine=True, track_running_stats=True)\n",
              "        )\n",
              "      )\n",
              "      (1): BasicBlock(\n",
              "        (conv1): Conv2d(512, 512, kernel_size=(3, 3), stride=(1, 1), padding=(1, 1), bias=False)\n",
              "        (bn1): BatchNorm2d(512, eps=1e-05, momentum=0.1, affine=True, track_running_stats=True)\n",
              "        (relu): ReLU(inplace=True)\n",
              "        (conv2): Conv2d(512, 512, kernel_size=(3, 3), stride=(1, 1), padding=(1, 1), bias=False)\n",
              "        (bn2): BatchNorm2d(512, eps=1e-05, momentum=0.1, affine=True, track_running_stats=True)\n",
              "      )\n",
              "    )\n",
              "    (8): AdaptiveAvgPool2d(output_size=(1, 1))\n",
              "  )\n",
              "  (fc0): Linear(in_features=512, out_features=256, bias=True)\n",
              "  (bn1): BatchNorm1d(256, eps=0.01, momentum=0.1, affine=True, track_running_stats=True)\n",
              "  (classifier): Linear(in_features=256, out_features=4, bias=True)\n",
              "  (relu): ReLU()\n",
              ")"
            ]
          },
          "metadata": {},
          "execution_count": 10
        }
      ]
    },
    {
      "cell_type": "code",
      "execution_count": null,
      "metadata": {
        "id": "uk7-wGfd8h9x"
      },
      "outputs": [],
      "source": [
        "import time # to calculate training time\n",
        "\n",
        "def train_and_validate(model, loss_criterion, optimizer, epochs=25):\n",
        "    '''\n",
        "    Function to train and validate\n",
        "    Parameters\n",
        "        :param model: Model to train and validate\n",
        "        :param loss_criterion: Loss Criterion to minimize\n",
        "        :param optimizer: Optimizer for computing gradients\n",
        "        :param epochs: Number of epochs (default=25)\n",
        "  \n",
        "    Returns\n",
        "        model: Trained Model with best validation accuracy\n",
        "        history: (dict object): Having training loss, accuracy and validation loss, accuracy\n",
        "    '''\n",
        "    \n",
        "    start = time.time()\n",
        "    history = []\n",
        "    best_acc = 0.0\n",
        "\n",
        "    for epoch in range(epochs):\n",
        "        epoch_start = time.time()\n",
        "        print(\"Epoch: {}/{}\".format(epoch+1, epochs))\n",
        "        \n",
        "        # Set to training mode\n",
        "        model.train()\n",
        "        \n",
        "        # Loss and Accuracy within the epoch\n",
        "        train_loss = 0.0\n",
        "        train_acc = 0.0\n",
        "        \n",
        "        valid_loss = 0.0\n",
        "        valid_acc = 0.0\n",
        "        \n",
        "        for i, (inputs, labels) in enumerate(trainloader):\n",
        "\n",
        "            inputs = inputs.to(device)\n",
        "            labels = labels.to(device)\n",
        "            \n",
        "            # Clean existing gradients\n",
        "            optimizer.zero_grad()\n",
        "            \n",
        "            # Forward pass - compute outputs on input data using the model\n",
        "            outputs = model(inputs)\n",
        "            \n",
        "            # Compute loss\n",
        "            loss = loss_criterion(outputs, labels)\n",
        "            \n",
        "            # Backpropagate the gradients\n",
        "            loss.backward()\n",
        "            \n",
        "            # Update the parameters\n",
        "            optimizer.step()\n",
        "            \n",
        "            # Compute the total loss for the batch and add it to train_loss\n",
        "            train_loss += loss.item() * inputs.size(0)\n",
        "            \n",
        "            # Compute the accuracy\n",
        "            ret, predictions = torch.max(outputs.data, 1)\n",
        "            correct_counts = predictions.eq(labels.data.view_as(predictions))\n",
        "            \n",
        "            # Convert correct_counts to float and then compute the mean\n",
        "            acc = torch.mean(correct_counts.type(torch.FloatTensor))\n",
        "            \n",
        "            # Compute total accuracy in the whole batch and add to train_acc\n",
        "            train_acc += acc.item() * inputs.size(0)\n",
        "            \n",
        "            #print(\"Batch number: {:03d}, Training: Loss: {:.4f}, Accuracy: {:.4f}\".format(i, loss.item(), acc.item()))\n",
        "\n",
        "            \n",
        "        # Validation - No gradient tracking needed\n",
        "        with torch.no_grad():\n",
        "\n",
        "            # Set to evaluation mode\n",
        "            model.eval()\n",
        "\n",
        "            # Validation loop\n",
        "            for j, (inputs, labels) in enumerate(testloader):\n",
        "                inputs = inputs.to(device)\n",
        "                labels = labels.to(device)\n",
        "\n",
        "                # Forward pass - compute outputs on input data using the model\n",
        "                outputs = model(inputs)\n",
        "\n",
        "                # Compute loss\n",
        "                loss = loss_criterion(outputs, labels)\n",
        "\n",
        "                # Compute the total loss for the batch and add it to valid_loss\n",
        "                valid_loss += loss.item() * inputs.size(0)\n",
        "\n",
        "                # Calculate validation accuracy\n",
        "                ret, predictions = torch.max(outputs.data, 1)\n",
        "                correct_counts = predictions.eq(labels.data.view_as(predictions))\n",
        "\n",
        "                # Convert correct_counts to float and then compute the mean\n",
        "                acc = torch.mean(correct_counts.type(torch.FloatTensor))\n",
        "\n",
        "                # Compute total accuracy in the whole batch and add to valid_acc\n",
        "                valid_acc += acc.item() * inputs.size(0)\n",
        "\n",
        "                #print(\"Validation Batch number: {:03d}, Validation: Loss: {:.4f}, Accuracy: {:.4f}\".format(j, loss.item(), acc.item()))\n",
        "            \n",
        "        # Find average training loss and training accuracy\n",
        "        avg_train_loss = train_loss/train_data_size \n",
        "        avg_train_acc = train_acc/train_data_size\n",
        "\n",
        "        # Find average training loss and training accuracy\n",
        "        avg_test_loss = valid_loss/test_data_size \n",
        "        avg_test_acc = valid_acc/test_data_size\n",
        "\n",
        "        history.append([avg_train_loss, avg_test_loss, avg_train_acc, avg_test_acc])\n",
        "                \n",
        "        epoch_end = time.time()\n",
        "    \n",
        "        print(\"Epoch : {:03d}, Training: Loss: {:.4f}, Accuracy: {:.4f}%, \\n\\t\\tValidation : Loss : {:.4f}, Accuracy: {:.4f}%, Time: {:.4f}s\".format(epoch, avg_train_loss, avg_train_acc*100, avg_test_loss, avg_test_acc*100, epoch_end-epoch_start))\n",
        "        \n",
        "        # Save if the model has best accuracy till now\n",
        "        torch.save(model, 'fruitCNNdata'+str(epoch)+'.pt')\n",
        "            \n",
        "    return model, history"
      ]
    },
    {
      "cell_type": "code",
      "execution_count": null,
      "metadata": {
        "id": "ILWVXEkS8kM4"
      },
      "outputs": [],
      "source": [
        "# 4. Train the model for 10 epoch\n",
        " \n",
        "num_epochs = 30\n",
        "trained_model, history = train_and_validate(model, criterion, optimizer, num_epochs)"
      ]
    },
    {
      "cell_type": "markdown",
      "source": [
        "\n",
        "\n",
        "new highest:\n",
        "\n",
        "Epoch: 28/30\n",
        "Epoch : 027, Training: Loss: 0.0713, Accuracy: 97.8125%, \n",
        "\t\tValidation : Loss : 0.2833, Accuracy: 91.2500%, Time: 10.1035s"
      ],
      "metadata": {
        "id": "Ge_l-dh0hKpQ"
      }
    },
    {
      "cell_type": "markdown",
      "source": [
        "#4) Save the final model and load again on the notebook. Perform inference on 3 new samples (fruit data captured from your phone)."
      ],
      "metadata": {
        "id": "u0KjKpJk5nkC"
      }
    },
    {
      "cell_type": "code",
      "execution_count": null,
      "metadata": {
        "id": "0SlHsDqPPtMi"
      },
      "outputs": [],
      "source": [
        "import torch, torchvision\n",
        "from torchvision import datasets, models, transforms"
      ]
    },
    {
      "cell_type": "code",
      "execution_count": null,
      "metadata": {
        "id": "QL1bqOU_Qd-t"
      },
      "outputs": [],
      "source": [
        "# Specify image transformations\n",
        "from torchvision import transforms\n",
        "\n",
        "transform = transforms.Compose([transforms.ToPILImage(),         #[1]\n",
        " transforms.Resize(256),                    #[2]\n",
        " transforms.CenterCrop(224),                #[3]\n",
        " transforms.ToTensor(),                     #[4]\n",
        " transforms.Normalize(                      #[5]\n",
        " mean=[0.485, 0.456, 0.406],                #[6]\n",
        " std=[0.229, 0.224, 0.225]                  #[7]\n",
        " )])\n"
      ]
    },
    {
      "cell_type": "code",
      "source": [
        "#get the 3 images\n",
        "!wget https://raw.githubusercontent.com/amirahazani/KPT-MLAssignments/main/Week2/268.jpg -O watermelon.jpg\n",
        "file_name1 = \"watermelon.jpg\"\n"
      ],
      "metadata": {
        "id": "mqDREv4JR6CF",
        "colab": {
          "base_uri": "https://localhost:8080/"
        },
        "outputId": "534402c8-5349-471f-aedb-5223a104755e"
      },
      "execution_count": null,
      "outputs": [
        {
          "output_type": "stream",
          "name": "stdout",
          "text": [
            "--2022-07-25 14:20:38--  https://raw.githubusercontent.com/amirahazani/KPT-MLAssignments/main/Week2/268.jpg\n",
            "Resolving raw.githubusercontent.com (raw.githubusercontent.com)... 185.199.108.133, 185.199.109.133, 185.199.111.133, ...\n",
            "Connecting to raw.githubusercontent.com (raw.githubusercontent.com)|185.199.108.133|:443... connected.\n",
            "HTTP request sent, awaiting response... 200 OK\n",
            "Length: 8056 (7.9K) [image/jpeg]\n",
            "Saving to: ‘watermelon.jpg’\n",
            "\n",
            "\rwatermelon.jpg        0%[                    ]       0  --.-KB/s               \rwatermelon.jpg      100%[===================>]   7.87K  --.-KB/s    in 0s      \n",
            "\n",
            "2022-07-25 14:20:38 (69.7 MB/s) - ‘watermelon.jpg’ saved [8056/8056]\n",
            "\n"
          ]
        }
      ]
    },
    {
      "cell_type": "code",
      "source": [
        "!wget https://github.com/amirahazani/KPT-MLAssignments/blob/main/Week2/267.jpg?raw=true -O tomato.jpg\n",
        "file_name2 = \"tomato.jpg\"\n"
      ],
      "metadata": {
        "id": "Ukg3-YHedQ0Y",
        "colab": {
          "base_uri": "https://localhost:8080/"
        },
        "outputId": "ef480391-9b0d-46b1-d90e-a2a2d760251c"
      },
      "execution_count": null,
      "outputs": [
        {
          "output_type": "stream",
          "name": "stdout",
          "text": [
            "--2022-07-25 14:20:38--  https://github.com/amirahazani/KPT-MLAssignments/blob/main/Week2/267.jpg?raw=true\n",
            "Resolving github.com (github.com)... 140.82.114.3\n",
            "Connecting to github.com (github.com)|140.82.114.3|:443... connected.\n",
            "HTTP request sent, awaiting response... 302 Found\n",
            "Location: https://github.com/amirahazani/KPT-MLAssignments/raw/main/Week2/267.jpg [following]\n",
            "--2022-07-25 14:20:38--  https://github.com/amirahazani/KPT-MLAssignments/raw/main/Week2/267.jpg\n",
            "Reusing existing connection to github.com:443.\n",
            "HTTP request sent, awaiting response... 302 Found\n",
            "Location: https://raw.githubusercontent.com/amirahazani/KPT-MLAssignments/main/Week2/267.jpg [following]\n",
            "--2022-07-25 14:20:39--  https://raw.githubusercontent.com/amirahazani/KPT-MLAssignments/main/Week2/267.jpg\n",
            "Resolving raw.githubusercontent.com (raw.githubusercontent.com)... 185.199.108.133, 185.199.109.133, 185.199.110.133, ...\n",
            "Connecting to raw.githubusercontent.com (raw.githubusercontent.com)|185.199.108.133|:443... connected.\n",
            "HTTP request sent, awaiting response... 200 OK\n",
            "Length: 4890 (4.8K) [image/jpeg]\n",
            "Saving to: ‘tomato.jpg’\n",
            "\n",
            "tomato.jpg          100%[===================>]   4.78K  --.-KB/s    in 0s      \n",
            "\n",
            "2022-07-25 14:20:39 (34.7 MB/s) - ‘tomato.jpg’ saved [4890/4890]\n",
            "\n"
          ]
        }
      ]
    },
    {
      "cell_type": "code",
      "source": [
        "\n",
        "!wget https://github.com/amirahazani/KPT-MLAssignments/blob/main/Week2/494.jpg?raw=true -O durian.jpg\n",
        "file_name3 = \"durian.jpg\""
      ],
      "metadata": {
        "id": "AMETvUOfdU4F",
        "colab": {
          "base_uri": "https://localhost:8080/"
        },
        "outputId": "c6fbc43e-b8df-47d3-8e0e-3e49bd4d8633"
      },
      "execution_count": null,
      "outputs": [
        {
          "output_type": "stream",
          "name": "stdout",
          "text": [
            "--2022-07-25 15:14:28--  https://github.com/amirahazani/KPT-MLAssignments/blob/main/Week2/494.jpg?raw=true\n",
            "Resolving github.com (github.com)... 140.82.114.4\n",
            "Connecting to github.com (github.com)|140.82.114.4|:443... connected.\n",
            "HTTP request sent, awaiting response... 302 Found\n",
            "Location: https://github.com/amirahazani/KPT-MLAssignments/raw/main/Week2/494.jpg [following]\n",
            "--2022-07-25 15:14:28--  https://github.com/amirahazani/KPT-MLAssignments/raw/main/Week2/494.jpg\n",
            "Reusing existing connection to github.com:443.\n",
            "HTTP request sent, awaiting response... 302 Found\n",
            "Location: https://raw.githubusercontent.com/amirahazani/KPT-MLAssignments/main/Week2/494.jpg [following]\n",
            "--2022-07-25 15:14:28--  https://raw.githubusercontent.com/amirahazani/KPT-MLAssignments/main/Week2/494.jpg\n",
            "Resolving raw.githubusercontent.com (raw.githubusercontent.com)... 185.199.108.133, 185.199.109.133, 185.199.110.133, ...\n",
            "Connecting to raw.githubusercontent.com (raw.githubusercontent.com)|185.199.108.133|:443... connected.\n",
            "HTTP request sent, awaiting response... 200 OK\n",
            "Length: 21855 (21K) [image/jpeg]\n",
            "Saving to: ‘durian.jpg’\n",
            "\n",
            "\rdurian.jpg            0%[                    ]       0  --.-KB/s               \rdurian.jpg          100%[===================>]  21.34K  --.-KB/s    in 0.001s  \n",
            "\n",
            "2022-07-25 15:14:28 (17.8 MB/s) - ‘durian.jpg’ saved [21855/21855]\n",
            "\n"
          ]
        }
      ]
    },
    {
      "cell_type": "code",
      "execution_count": null,
      "metadata": {
        "colab": {
          "base_uri": "https://localhost:8080/"
        },
        "id": "G31tXCQxa1AZ",
        "outputId": "86a8f768-9251-4de8-84c6-456cc4cba503"
      },
      "outputs": [
        {
          "output_type": "stream",
          "name": "stdout",
          "text": [
            "--2022-07-25 15:01:38--  https://raw.githubusercontent.com/amirahazani/KPT-MLAssignments/main/Week2/fruitsclasses.txt\n",
            "Resolving raw.githubusercontent.com (raw.githubusercontent.com)... 185.199.108.133, 185.199.109.133, 185.199.110.133, ...\n",
            "Connecting to raw.githubusercontent.com (raw.githubusercontent.com)|185.199.108.133|:443... connected.\n",
            "HTTP request sent, awaiting response... 200 OK\n",
            "Length: 32 [text/plain]\n",
            "Saving to: ‘fruitsclasses.txt’\n",
            "\n",
            "\rfruitsclasses.txt     0%[                    ]       0  --.-KB/s               \rfruitsclasses.txt   100%[===================>]      32  --.-KB/s    in 0s      \n",
            "\n",
            "2022-07-25 15:01:38 (2.37 MB/s) - ‘fruitsclasses.txt’ saved [32/32]\n",
            "\n"
          ]
        }
      ],
      "source": [
        "# Download classes text file\n",
        "\n",
        "!wget https://raw.githubusercontent.com/amirahazani/KPT-MLAssignments/main/Week2/fruitsclasses.txt\n",
        "file_name = 'fruits_classes.txt'\n",
        "# download(url, file_name)"
      ]
    },
    {
      "cell_type": "code",
      "execution_count": null,
      "metadata": {
        "id": "9qtOK2ZLTwss"
      },
      "outputs": [],
      "source": [
        "from requests import get  # to make GET request\n",
        "\n",
        "def download(url, file_name):\n",
        "    # open in binary mode\n",
        "    with open(file_name, \"wb\") as file:\n",
        "        # get request\n",
        "        response = get(url)\n",
        "        # write to file\n",
        "        file.write(response.content)"
      ]
    },
    {
      "cell_type": "code",
      "execution_count": null,
      "metadata": {
        "id": "jex0-5RuaNRP"
      },
      "outputs": [],
      "source": [
        "# from PIL import Image\n",
        "# img = Image.open(\"dog.jpg\")\n",
        "\n",
        "import cv2\n",
        "img1 = cv2.imread(\"watermelon.jpg\")\n",
        "img2 = cv2.imread(\"tomato.jpg\")\n",
        "img3 = cv2.imread(\"durian.jpg\")"
      ]
    },
    {
      "cell_type": "code",
      "execution_count": null,
      "metadata": {
        "id": "cbPGrVeRapB9"
      },
      "outputs": [],
      "source": [
        "img_t1 = transform(img1)\n",
        "batch_t1 = torch.unsqueeze(img_t1, 0)\n",
        "\n",
        "img_t2 = transform(img2)\n",
        "batch_t2 = torch.unsqueeze(img_t2, 0)\n",
        "\n",
        "img_t3 = transform(img3)\n",
        "batch_t3 = torch.unsqueeze(img_t3, 0)"
      ]
    },
    {
      "cell_type": "code",
      "source": [
        "# Put our model in eval mode\n",
        "model.eval()"
      ],
      "metadata": {
        "id": "cjbWemAJ5pgz",
        "colab": {
          "base_uri": "https://localhost:8080/"
        },
        "outputId": "dd9e6a37-2182-42c9-820e-07bc4841c603"
      },
      "execution_count": null,
      "outputs": [
        {
          "output_type": "execute_result",
          "data": {
            "text/plain": [
              "MyCustomResnet18(\n",
              "  (features): Sequential(\n",
              "    (0): Conv2d(3, 64, kernel_size=(7, 7), stride=(2, 2), padding=(3, 3), bias=False)\n",
              "    (1): BatchNorm2d(64, eps=1e-05, momentum=0.1, affine=True, track_running_stats=True)\n",
              "    (2): ReLU(inplace=True)\n",
              "    (3): MaxPool2d(kernel_size=3, stride=2, padding=1, dilation=1, ceil_mode=False)\n",
              "    (4): Sequential(\n",
              "      (0): BasicBlock(\n",
              "        (conv1): Conv2d(64, 64, kernel_size=(3, 3), stride=(1, 1), padding=(1, 1), bias=False)\n",
              "        (bn1): BatchNorm2d(64, eps=1e-05, momentum=0.1, affine=True, track_running_stats=True)\n",
              "        (relu): ReLU(inplace=True)\n",
              "        (conv2): Conv2d(64, 64, kernel_size=(3, 3), stride=(1, 1), padding=(1, 1), bias=False)\n",
              "        (bn2): BatchNorm2d(64, eps=1e-05, momentum=0.1, affine=True, track_running_stats=True)\n",
              "      )\n",
              "      (1): BasicBlock(\n",
              "        (conv1): Conv2d(64, 64, kernel_size=(3, 3), stride=(1, 1), padding=(1, 1), bias=False)\n",
              "        (bn1): BatchNorm2d(64, eps=1e-05, momentum=0.1, affine=True, track_running_stats=True)\n",
              "        (relu): ReLU(inplace=True)\n",
              "        (conv2): Conv2d(64, 64, kernel_size=(3, 3), stride=(1, 1), padding=(1, 1), bias=False)\n",
              "        (bn2): BatchNorm2d(64, eps=1e-05, momentum=0.1, affine=True, track_running_stats=True)\n",
              "      )\n",
              "    )\n",
              "    (5): Sequential(\n",
              "      (0): BasicBlock(\n",
              "        (conv1): Conv2d(64, 128, kernel_size=(3, 3), stride=(2, 2), padding=(1, 1), bias=False)\n",
              "        (bn1): BatchNorm2d(128, eps=1e-05, momentum=0.1, affine=True, track_running_stats=True)\n",
              "        (relu): ReLU(inplace=True)\n",
              "        (conv2): Conv2d(128, 128, kernel_size=(3, 3), stride=(1, 1), padding=(1, 1), bias=False)\n",
              "        (bn2): BatchNorm2d(128, eps=1e-05, momentum=0.1, affine=True, track_running_stats=True)\n",
              "        (downsample): Sequential(\n",
              "          (0): Conv2d(64, 128, kernel_size=(1, 1), stride=(2, 2), bias=False)\n",
              "          (1): BatchNorm2d(128, eps=1e-05, momentum=0.1, affine=True, track_running_stats=True)\n",
              "        )\n",
              "      )\n",
              "      (1): BasicBlock(\n",
              "        (conv1): Conv2d(128, 128, kernel_size=(3, 3), stride=(1, 1), padding=(1, 1), bias=False)\n",
              "        (bn1): BatchNorm2d(128, eps=1e-05, momentum=0.1, affine=True, track_running_stats=True)\n",
              "        (relu): ReLU(inplace=True)\n",
              "        (conv2): Conv2d(128, 128, kernel_size=(3, 3), stride=(1, 1), padding=(1, 1), bias=False)\n",
              "        (bn2): BatchNorm2d(128, eps=1e-05, momentum=0.1, affine=True, track_running_stats=True)\n",
              "      )\n",
              "    )\n",
              "    (6): Sequential(\n",
              "      (0): BasicBlock(\n",
              "        (conv1): Conv2d(128, 256, kernel_size=(3, 3), stride=(2, 2), padding=(1, 1), bias=False)\n",
              "        (bn1): BatchNorm2d(256, eps=1e-05, momentum=0.1, affine=True, track_running_stats=True)\n",
              "        (relu): ReLU(inplace=True)\n",
              "        (conv2): Conv2d(256, 256, kernel_size=(3, 3), stride=(1, 1), padding=(1, 1), bias=False)\n",
              "        (bn2): BatchNorm2d(256, eps=1e-05, momentum=0.1, affine=True, track_running_stats=True)\n",
              "        (downsample): Sequential(\n",
              "          (0): Conv2d(128, 256, kernel_size=(1, 1), stride=(2, 2), bias=False)\n",
              "          (1): BatchNorm2d(256, eps=1e-05, momentum=0.1, affine=True, track_running_stats=True)\n",
              "        )\n",
              "      )\n",
              "      (1): BasicBlock(\n",
              "        (conv1): Conv2d(256, 256, kernel_size=(3, 3), stride=(1, 1), padding=(1, 1), bias=False)\n",
              "        (bn1): BatchNorm2d(256, eps=1e-05, momentum=0.1, affine=True, track_running_stats=True)\n",
              "        (relu): ReLU(inplace=True)\n",
              "        (conv2): Conv2d(256, 256, kernel_size=(3, 3), stride=(1, 1), padding=(1, 1), bias=False)\n",
              "        (bn2): BatchNorm2d(256, eps=1e-05, momentum=0.1, affine=True, track_running_stats=True)\n",
              "      )\n",
              "    )\n",
              "    (7): Sequential(\n",
              "      (0): BasicBlock(\n",
              "        (conv1): Conv2d(256, 512, kernel_size=(3, 3), stride=(2, 2), padding=(1, 1), bias=False)\n",
              "        (bn1): BatchNorm2d(512, eps=1e-05, momentum=0.1, affine=True, track_running_stats=True)\n",
              "        (relu): ReLU(inplace=True)\n",
              "        (conv2): Conv2d(512, 512, kernel_size=(3, 3), stride=(1, 1), padding=(1, 1), bias=False)\n",
              "        (bn2): BatchNorm2d(512, eps=1e-05, momentum=0.1, affine=True, track_running_stats=True)\n",
              "        (downsample): Sequential(\n",
              "          (0): Conv2d(256, 512, kernel_size=(1, 1), stride=(2, 2), bias=False)\n",
              "          (1): BatchNorm2d(512, eps=1e-05, momentum=0.1, affine=True, track_running_stats=True)\n",
              "        )\n",
              "      )\n",
              "      (1): BasicBlock(\n",
              "        (conv1): Conv2d(512, 512, kernel_size=(3, 3), stride=(1, 1), padding=(1, 1), bias=False)\n",
              "        (bn1): BatchNorm2d(512, eps=1e-05, momentum=0.1, affine=True, track_running_stats=True)\n",
              "        (relu): ReLU(inplace=True)\n",
              "        (conv2): Conv2d(512, 512, kernel_size=(3, 3), stride=(1, 1), padding=(1, 1), bias=False)\n",
              "        (bn2): BatchNorm2d(512, eps=1e-05, momentum=0.1, affine=True, track_running_stats=True)\n",
              "      )\n",
              "    )\n",
              "    (8): AdaptiveAvgPool2d(output_size=(1, 1))\n",
              "  )\n",
              "  (fc0): Linear(in_features=512, out_features=256, bias=True)\n",
              "  (bn1): BatchNorm1d(256, eps=0.01, momentum=0.1, affine=True, track_running_stats=True)\n",
              "  (classifier): Linear(in_features=256, out_features=4, bias=True)\n",
              "  (relu): ReLU()\n",
              ")"
            ]
          },
          "metadata": {},
          "execution_count": 122
        }
      ]
    },
    {
      "cell_type": "code",
      "execution_count": null,
      "metadata": {
        "id": "BtZvoeNkdCkI",
        "colab": {
          "base_uri": "https://localhost:8080/"
        },
        "outputId": "95f208cc-ad23-4737-9d61-630c9c382759"
      },
      "outputs": [
        {
          "output_type": "stream",
          "name": "stdout",
          "text": [
            "torch.Size([1, 4])\n",
            "torch.Size([1, 4])\n",
            "torch.Size([1, 4])\n"
          ]
        }
      ],
      "source": [
        "# Carry out inference\n",
        "out1 = model(batch_t1)\n",
        "out2 = model(batch_t2)\n",
        "out3 = model(batch_t3)\n",
        "\n",
        "\n",
        "print(out1.shape)\n",
        "print(out2.shape)\n",
        "print(out3.shape)"
      ]
    },
    {
      "cell_type": "code",
      "source": [
        "with open('fruitsclasses.txt') as f:\n",
        "    lines = f.readlines()"
      ],
      "metadata": {
        "id": "wS7ZyiAlkaLI"
      },
      "execution_count": null,
      "outputs": []
    },
    {
      "cell_type": "code",
      "execution_count": null,
      "metadata": {
        "id": "Y5pqY-qXdDgv"
      },
      "outputs": [],
      "source": [
        "# Load labels\n",
        "with open('fruitsclasses.txt') as f:\n",
        "  classes = [line.strip() for line in f.readlines()]"
      ]
    },
    {
      "cell_type": "code",
      "source": [
        "class_names = open(\"fruitsclasses.txt\").read().split(\"\\n\")\n",
        "\n",
        "print(class_names[:4])"
      ],
      "metadata": {
        "colab": {
          "base_uri": "https://localhost:8080/"
        },
        "id": "S8q-cS6k3EHY",
        "outputId": "69d8a4b3-ddd1-48d3-d8aa-717210571db9"
      },
      "execution_count": null,
      "outputs": [
        {
          "output_type": "stream",
          "name": "stdout",
          "text": [
            "['Durian', 'Pumpkin', 'Tomato', 'Watermelon']\n"
          ]
        }
      ]
    },
    {
      "cell_type": "code",
      "execution_count": null,
      "metadata": {
        "colab": {
          "base_uri": "https://localhost:8080/",
          "height": 346
        },
        "outputId": "81e93ee5-d39d-4747-a74a-d61d59e884d8",
        "id": "EDZ9Rx-AwrKY"
      },
      "outputs": [
        {
          "output_type": "stream",
          "name": "stdout",
          "text": [
            "Watermelon 0.6662355661392212\n",
            "Tomato 0.17904885113239288\n",
            "Pumpkin 0.08424802124500275\n",
            "Durian 0.0704675242304802\n"
          ]
        },
        {
          "output_type": "display_data",
          "data": {
            "text/plain": [
              "<PIL.Image.Image image mode=RGB size=319x260 at 0x7FA95497A710>"
            ],
            "image/png": "[encoded data removed]"
          },
          "metadata": {}
        }
      ],
      "source": [
        "from google.colab.patches import cv2_imshow\n",
        "\n",
        "# Get the softmax probabilities.\n",
        "probabilities1 = torch.nn.functional.softmax(out1, dim=1)[0]\n",
        "\n",
        "# Check the top 5 categories that are predicted.\n",
        "top4_prob, top4_catid = torch.topk(probabilities1, 4)\n",
        "\n",
        "\n",
        "for i in range(top4_prob.size(0)):\n",
        "    cv2.putText(img1, f\"{top4_prob[i].item()*100:.3f}%\", (15, (i+1)*30), \n",
        "                cv2.FONT_HERSHEY_SIMPLEX,\n",
        "                1, (0, 0, 255), 2, cv2.LINE_AA)\n",
        "    cv2.putText(img1, f\"{classes[top4_catid[i]]}\", (160, (i+1)*30), \n",
        "                cv2.FONT_HERSHEY_SIMPLEX,\n",
        "                1, (0, 0, 255), 2, cv2.LINE_AA)\n",
        "    print(classes[top4_catid[i]], top4_prob[i].item())\n",
        "\n",
        "\n",
        "\n",
        "    \n",
        "cv2_imshow(img1)\n",
        "\n",
        "cv2.waitKey(0)\n",
        "cv2.destroyAllWindows()"
      ]
    },
    {
      "cell_type": "code",
      "execution_count": null,
      "metadata": {
        "colab": {
          "base_uri": "https://localhost:8080/",
          "height": 266
        },
        "outputId": "f9fba426-eccb-409c-8ce5-ca9bd51cf4cb",
        "id": "hyiarjn9wjYg"
      },
      "outputs": [
        {
          "output_type": "stream",
          "name": "stdout",
          "text": [
            "Tomato 0.748346745967865\n",
            "Watermelon 0.14812003076076508\n",
            "Durian 0.05676441267132759\n",
            "Pumpkin 0.04676873981952667\n"
          ]
        },
        {
          "output_type": "display_data",
          "data": {
            "text/plain": [
              "<PIL.Image.Image image mode=RGB size=226x180 at 0x7FA954A1C6D0>"
            ],
            "image/png": "[encoded data removed]"
          },
          "metadata": {}
        }
      ],
      "source": [
        "from google.colab.patches import cv2_imshow\n",
        "\n",
        "# Get the softmax probabilities.\n",
        "\n",
        "probabilities2 = torch.nn.functional.softmax(out2, dim=1)[0]\n",
        "\n",
        "# Check the top 5 categories that are predicted.\n",
        "\n",
        "top4_prob, top4_catid = torch.topk(probabilities2, 4)\n",
        "\n",
        "\n",
        "\n",
        "\n",
        "for i in range(top4_prob.size(0)):\n",
        "    cv2.putText(img2, f\"{top4_prob[i].item()*100:.3f}%\", (15, (i+1)*30), \n",
        "                cv2.FONT_HERSHEY_SIMPLEX,\n",
        "                1, (0, 0, 255), 2, cv2.LINE_AA)\n",
        "    cv2.putText(img2, f\"{classes[top4_catid[i]]}\", (160, (i+1)*30), \n",
        "                cv2.FONT_HERSHEY_SIMPLEX,\n",
        "                1, (0, 0, 255), 2, cv2.LINE_AA)\n",
        "    print(classes[top4_catid[i]], top4_prob[i].item())\n",
        "\n",
        "\n",
        "    \n",
        "\n",
        "cv2_imshow(img2)\n",
        "\n",
        "cv2.waitKey(0)\n",
        "cv2.destroyAllWindows()"
      ]
    },
    {
      "cell_type": "code",
      "execution_count": null,
      "metadata": {
        "id": "OATsity0dGoV",
        "colab": {
          "base_uri": "https://localhost:8080/",
          "height": 346
        },
        "outputId": "28c114ba-0ea7-4b98-b4f3-693ccbb9435f"
      },
      "outputs": [
        {
          "output_type": "stream",
          "name": "stdout",
          "text": [
            "Tomato 0.35324859619140625\n",
            "Watermelon 0.24438314139842987\n",
            "Pumpkin 0.22035034000873566\n",
            "Durian 0.18201792240142822\n"
          ]
        },
        {
          "output_type": "display_data",
          "data": {
            "text/plain": [
              "<PIL.Image.Image image mode=RGB size=459x260 at 0x7FA95491DA90>"
            ],
            "image/png": "[encoded data removed]"
          },
          "metadata": {}
        }
      ],
      "source": [
        "from google.colab.patches import cv2_imshow\n",
        "\n",
        "# Get the softmax probabilities.\n",
        "\n",
        "probabilities3 = torch.nn.functional.softmax(out3, dim=1)[0]\n",
        "# Check the top 5 categories that are predicted.\n",
        "\n",
        "top4_prob, top4_catid = torch.topk(probabilities3, 4)\n",
        "\n",
        "for i in range(top4_prob.size(0)):\n",
        "    cv2.putText(img3, f\"{top4_prob[i].item()*100:.3f}%\", (15, (i+1)*30), \n",
        "                cv2.FONT_HERSHEY_SIMPLEX,\n",
        "                1, (0, 0, 255), 2, cv2.LINE_AA)\n",
        "    cv2.putText(img3, f\"{classes[top4_catid[i]]}\", (160, (i+1)*30), \n",
        "                cv2.FONT_HERSHEY_SIMPLEX,\n",
        "                1, (0, 0, 255), 2, cv2.LINE_AA)\n",
        "    print(classes[top4_catid[i]], top4_prob[i].item())\n",
        "    \n",
        "cv2_imshow(img3)\n",
        "cv2.waitKey(0)\n",
        "cv2.destroyAllWindows()"
      ]
    }
  ]
}